{
 "cells": [
  {
   "cell_type": "markdown",
   "metadata": {},
   "source": [
    "O código deste notebook é baseado em: https://www.datacamp.com/projects/38"
   ]
  },
  {
   "cell_type": "markdown",
   "metadata": {},
   "source": [
    "## Configuração"
   ]
  },
  {
   "cell_type": "code",
   "execution_count": 2,
   "metadata": {},
   "outputs": [],
   "source": [
    "import requests\n",
    "from bs4 import BeautifulSoup\n",
    "import nltk"
   ]
  },
  {
   "cell_type": "markdown",
   "metadata": {},
   "source": [
    "## Extraindo o texto"
   ]
  },
  {
   "cell_type": "code",
   "execution_count": 3,
   "metadata": {},
   "outputs": [
    {
     "name": "stdout",
     "output_type": "stream",
     "text": [
      "<!DOCTYPE html PUBLIC \"-//W3C//DTD XHTML 1.0 Strict//EN\"\n",
      "\"http://www.w3.org/TR/xhtml1/DTD/xhtml1-strict.dtd\">\n",
      "<html xmlns=\"http://www.w3.org/1999/xhtml\" xml:lang=\"en\" lang=\"en\">\n",
      "<head>\n",
      "<meta http-equiv=\"Content-Type\" content=\"text/html;charset=utf-8\" />\n",
      "<meta http-equiv=\"Content-Style-Type\" content=\"text/css\" />\n",
      "<title>The Project Gutenberg eBook of Moby Dick; Or the Whale, by Herman Melville</title>\n",
      "\n",
      "<style type=\"text/css\" xml:space=\"preserve\">\n",
      "\n",
      "    body {margin-left:15%; margin-right:15%; text-align:justify }\n",
      "    p { text-indent: 1em; margin-top: .25em; margin-bottom: .25em; }\n",
      "    H1,H2,H3,H4,H5,H6 { text-align: center; margin-left: 15%; margin-right: 15%; }\n",
      "    hr  { width: 50%; text-align: center;}\n",
      "    blockquote {font-size: 100%; margin-left: 0%; margin-right: 0%;}\n",
      "    .mynote    {background-color: #DDE; color: #000; padding: .5em; margin-left: 10%; margin-right: 10%; font-family: sans-serif; font-size: 95%;}\n",
      "    .toc       { margin-left: 10%; margin-bottom: .75em;}\n",
      "    pre        { font-family: times new roman; font-size: 100%; margin-left: 10%;}\n",
      "\n",
      "    table      {margin-left: 10%;}\n",
      "\n",
      "a:link {color:blue;\n",
      "\t\ttext-decoration:none}\n",
      "link {color:blue;\n",
      "\t\ttext-decoration:none}\n",
      "a:visited {color:blue;\n",
      "\t\ttext-decoration:none}\n",
      "a:hover {color:red}\n",
      "\n",
      "</style>\n",
      "  </head>\n",
      "  <body>\n",
      "\n",
      "<div style='text-align:center; font-size:1.2em; font-weight:bold;'>The Project Gutenberg eBook of Moby-Dick; or The Whale, by Herman Melville</div>\n",
      "<div style='display:block; margin:1em 0'>\n",
      "This eBook is for the use of anyone anywhere in the United States and\n",
      "most other parts of the world at no cost and with almost no restrictions\n",
      "whatsoever. You may copy it, give it away or re-use it under the terms\n",
      "of the Project Gutenberg License included with this eBook or online\n",
      "at <a href=\"https://www.gutenberg.org\">www.gutenberg.org</a>. If you\n",
      "are not located in the United States, you will have to check the laws of the\n",
      "country where you are located before using this eBoo\n"
     ]
    }
   ],
   "source": [
    "r = requests.get(\"https://www.gutenberg.org/files/2701/2701-h/2701-h.htm\")\n",
    "\n",
    "r.encoding = 'utf-8'\n",
    "\n",
    "html = r.text\n",
    "\n",
    "print(html[0:2000])"
   ]
  },
  {
   "cell_type": "code",
   "execution_count": 4,
   "metadata": {},
   "outputs": [
    {
     "name": "stdout",
     "output_type": "stream",
     "text": [
      "inging up the rear\n",
      "      of every funeral I meet; and especially whenever my hypos get such an\n",
      "      upper hand of me, that it requires a strong moral principle to prevent me\n",
      "      from deliberately stepping into the street, and methodically knocking\n",
      "      people’s hats off—then, I account it high time to get to sea as soon\n",
      "      as I can. This is my substitute for pistol and ball. With a philosophical\n",
      "      flourish Cato throws himself upon his sword; I quietly take to the ship.\n",
      "      There is nothing surprising in this. If they but knew it, almost all men\n",
      "      in their degree, some time or other, cherish very nearly the same feelings\n",
      "      towards the ocean with me.\n",
      "    \n",
      "\n",
      "      There now is your insular city of the Manhattoes, belted round by wharves\n",
      "      as Indian isles by coral reefs—commerce surrounds it with her surf.\n",
      "      Right and left, the streets take you waterward. Its extreme downtown is\n",
      "      the battery, where that noble mole is washed by waves, and cooled by\n",
      "      breezes, which a few hours previous were out of sight of land. Look at the\n",
      "      crowds of water-gazers there.\n",
      "    \n",
      "\n",
      "      Circumambulate the city of a dreamy Sabbath afternoon. Go from Corlears\n",
      "      Hook to Coenties Slip, and from thence, by Whitehall, northward. What do\n",
      "      you see?—Posted like silent sentinels all around the town, stand\n",
      "      thousands upon thousands of mortal men fixed in ocean reveries. Some\n",
      "      leaning against the spiles; some seated upon the pier-heads; some looking\n",
      "      over the bulwarks of ships from China; some high aloft in the rigging, as\n",
      "      if striving to get a still better seaward peep. But these are all\n",
      "      landsmen; of week days pent up in lath and plaster—tied to counters,\n",
      "      nailed to benches, clinched to desks. How then is this? Are the green\n",
      "      fields gone? What do they here?\n",
      "    \n",
      "\n",
      "      But look! here come more crowds, pacing straight for the water, and\n",
      "      seemingly bound for a dive. Strange! Nothing w\n"
     ]
    }
   ],
   "source": [
    "soup = BeautifulSoup(html, 'html.parser')\n",
    "\n",
    "text = soup.get_text()\n",
    "\n",
    "print(text[32000:34000])"
   ]
  },
  {
   "cell_type": "markdown",
   "metadata": {},
   "source": [
    "## Tokenizando"
   ]
  },
  {
   "cell_type": "code",
   "execution_count": 8,
   "metadata": {},
   "outputs": [
    {
     "name": "stdout",
     "output_type": "stream",
     "text": [
      "['The', 'Project', 'Gutenberg', 'eBook', 'of', 'Moby', 'Dick', 'Or']\n"
     ]
    },
    {
     "name": "stderr",
     "output_type": "stream",
     "text": [
      "<>:1: SyntaxWarning: invalid escape sequence '\\w'\n",
      "<>:1: SyntaxWarning: invalid escape sequence '\\w'\n",
      "/tmp/ipykernel_12011/336617543.py:1: SyntaxWarning: invalid escape sequence '\\w'\n",
      "  tokenizer = nltk.tokenize.RegexpTokenizer('\\w+')\n"
     ]
    }
   ],
   "source": [
    "tokenizer = nltk.tokenize.RegexpTokenizer('\\w+')\n",
    "\n",
    "tokens = tokenizer.tokenize(text)\n",
    "\n",
    "print(tokens[0:8])"
   ]
  },
  {
   "cell_type": "markdown",
   "metadata": {},
   "source": [
    "## Tratamento do texto"
   ]
  },
  {
   "cell_type": "code",
   "execution_count": 9,
   "metadata": {},
   "outputs": [
    {
     "name": "stdout",
     "output_type": "stream",
     "text": [
      "['the', 'project', 'gutenberg', 'ebook', 'of', 'moby', 'dick', 'or']\n"
     ]
    }
   ],
   "source": [
    "words = []\n",
    "\n",
    "for word in tokens:\n",
    "    words.append(word.lower())\n",
    "\n",
    "print(words[0:8])"
   ]
  },
  {
   "cell_type": "code",
   "execution_count": 10,
   "metadata": {},
   "outputs": [
    {
     "name": "stderr",
     "output_type": "stream",
     "text": [
      "[nltk_data] Downloading package stopwords to\n",
      "[nltk_data]     /home/lucasqueiros/nltk_data...\n",
      "[nltk_data]   Package stopwords is already up-to-date!\n"
     ]
    }
   ],
   "source": [
    "from nltk.corpus import stopwords\n",
    "nltk.download('stopwords')\n",
    "sw = stopwords.words('english')"
   ]
  },
  {
   "cell_type": "code",
   "execution_count": 11,
   "metadata": {},
   "outputs": [],
   "source": [
    "words_ns = [word for word in words if word not in sw]"
   ]
  },
  {
   "cell_type": "code",
   "execution_count": 12,
   "metadata": {},
   "outputs": [
    {
     "name": "stdout",
     "output_type": "stream",
     "text": [
      "['project', 'gutenberg', 'ebook', 'moby', 'dick', 'whale', 'herman', 'melville']\n"
     ]
    }
   ],
   "source": [
    "print(words_ns[0:8])"
   ]
  },
  {
   "cell_type": "markdown",
   "metadata": {},
   "source": [
    "## Calculando frequencia das palavras"
   ]
  },
  {
   "cell_type": "code",
   "execution_count": 13,
   "metadata": {},
   "outputs": [],
   "source": [
    "freqdist = nltk.FreqDist(words_ns)"
   ]
  },
  {
   "cell_type": "code",
   "execution_count": 14,
   "metadata": {},
   "outputs": [
    {
     "data": {
      "text/plain": [
       "FreqDist({'whale': 1244, 'one': 925, 'like': 647, 'upon': 568, 'man': 527, 'ship': 519, 'ahab': 517, 'ye': 473, 'sea': 455, 'old': 452, ...})"
      ]
     },
     "execution_count": 14,
     "metadata": {},
     "output_type": "execute_result"
    }
   ],
   "source": [
    "freqdist"
   ]
  },
  {
   "cell_type": "code",
   "execution_count": 19,
   "metadata": {},
   "outputs": [
    {
     "data": {
      "image/png": "[encoded data removed]",
      "text/plain": [
       "<Figure size 640x480 with 1 Axes>"
      ]
     },
     "metadata": {},
     "output_type": "display_data"
    },
    {
     "data": {
      "text/plain": [
       "<Axes: xlabel='Samples', ylabel='Counts'>"
      ]
     },
     "execution_count": 19,
     "metadata": {},
     "output_type": "execute_result"
    }
   ],
   "source": [
    "%matplotlib inline\n",
    "\n",
    "freqdist.plot(50)"
   ]
  },
  {
   "cell_type": "markdown",
   "metadata": {},
   "source": [
    "- Podemos observar que a frequencia das palavras no livro moby dick segue a lei de Zipf"
   ]
  },
  {
   "cell_type": "code",
   "execution_count": null,
   "metadata": {},
   "outputs": [],
   "source": []
  }
 ],
 "metadata": {
  "kernelspec": {
   "display_name": "nlp",
   "language": "python",
   "name": "python3"
  },
  "language_info": {
   "codemirror_mode": {
    "name": "ipython",
    "version": 3
   },
   "file_extension": ".py",
   "mimetype": "text/x-python",
   "name": "python",
   "nbconvert_exporter": "python",
   "pygments_lexer": "ipython3",
   "version": "3.12.4"
  }
 },
 "nbformat": 4,
 "nbformat_minor": 2
}
