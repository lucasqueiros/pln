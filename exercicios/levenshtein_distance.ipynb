{
 "cells": [
  {
   "cell_type": "code",
   "execution_count": 12,
   "metadata": {},
   "outputs": [],
   "source": [
    "def levenshtein_distance(string1, string2):\n",
    "    m, n = len(string1), len(string2)\n",
    "\n",
    "    #criando a matriz D(m+1,n+1)\n",
    "    d = [[0] * (n + 1) for _ in range(m + 1)]\n",
    "\n",
    "    #coloca os indices na primeira linha e coluna\n",
    "    for i in range(m + 1):\n",
    "        d[i][0] = i\n",
    "    for j in range(n + 1):\n",
    "        d[0][j] = j\n",
    "    \n",
    "    #calculo do custo\n",
    "    for i in range(1, m + 1):\n",
    "        for j in range(1, n + 1):\n",
    "            if string1[i - 1] == string2[j - 1]:\n",
    "                custo = 0\n",
    "            else:\n",
    "                custo = 1\n",
    "            \n",
    "            d[i][j] = min(\n",
    "                d[i - 1][j] + 1,    #remoção   \n",
    "                d[i][j - 1] + 1,    #inserção\n",
    "                d[i - 1][j - 1] + custo #substituição\n",
    "            )\n",
    "    \n",
    "    return d[m][n]"
   ]
  },
  {
   "cell_type": "code",
   "execution_count": 13,
   "metadata": {},
   "outputs": [
    {
     "name": "stdout",
     "output_type": "stream",
     "text": [
      "5\n"
     ]
    }
   ],
   "source": [
    "string1 = \"execution\"\n",
    "string2 = \"intention\"\n",
    "print(levenshtein_distance(string1, string2))\n"
   ]
  },
  {
   "cell_type": "code",
   "execution_count": 7,
   "metadata": {},
   "outputs": [
    {
     "name": "stdout",
     "output_type": "stream",
     "text": [
      "1\n"
     ]
    }
   ],
   "source": [
    "string3 = \"gato\"\n",
    "string4 = \"rato\"\n",
    "print(levenshtein_distance(string3, string4))"
   ]
  },
  {
   "cell_type": "code",
   "execution_count": 8,
   "metadata": {},
   "outputs": [
    {
     "name": "stdout",
     "output_type": "stream",
     "text": [
      "2\n"
     ]
    }
   ],
   "source": [
    "string5 = \"caixa\"\n",
    "string6 = \"cama\"\n",
    "print(levenshtein_distance(string5, string6))"
   ]
  },
  {
   "cell_type": "code",
   "execution_count": null,
   "metadata": {},
   "outputs": [],
   "source": []
  }
 ],
 "metadata": {
  "kernelspec": {
   "display_name": "nlp",
   "language": "python",
   "name": "python3"
  },
  "language_info": {
   "codemirror_mode": {
    "name": "ipython",
    "version": 3
   },
   "file_extension": ".py",
   "mimetype": "text/x-python",
   "name": "python",
   "nbconvert_exporter": "python",
   "pygments_lexer": "ipython3",
   "version": "3.12.4"
  }
 },
 "nbformat": 4,
 "nbformat_minor": 2
}
