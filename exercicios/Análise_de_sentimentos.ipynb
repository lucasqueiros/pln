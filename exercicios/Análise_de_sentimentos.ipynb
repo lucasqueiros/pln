{
  "cells": [
    {
      "cell_type": "code",
      "execution_count": 2,
      "metadata": {
        "colab": {
          "base_uri": "https://localhost:8080/"
        },
        "id": "fSM19zes3rgp",
        "outputId": "9063591f-5f52-4979-c889-bbe70fa98107"
      },
      "outputs": [
        {
          "name": "stderr",
          "output_type": "stream",
          "text": [
            "[nltk_data] Downloading package stopwords to\n",
            "[nltk_data]     /home/lucasqueiros/nltk_data...\n",
            "[nltk_data]   Package stopwords is already up-to-date!\n",
            "[nltk_data] Downloading package punkt to\n",
            "[nltk_data]     /home/lucasqueiros/nltk_data...\n",
            "[nltk_data]   Package punkt is already up-to-date!\n"
          ]
        },
        {
          "data": {
            "text/plain": [
              "True"
            ]
          },
          "execution_count": 2,
          "metadata": {},
          "output_type": "execute_result"
        }
      ],
      "source": [
        "import pandas as pd\n",
        "from sklearn.linear_model import LogisticRegression\n",
        "from sklearn.naive_bayes import MultinomialNB\n",
        "from sklearn.model_selection import train_test_split\n",
        "import matplotlib.pyplot as plt\n",
        "from sklearn.metrics import classification_report, confusion_matrix\n",
        "from sklearn.neural_network import MLPClassifier\n",
        "\n",
        "# Corpus Processing\n",
        "import re\n",
        "import nltk.corpus\n",
        "from unidecode                        import unidecode\n",
        "from nltk.tokenize                    import word_tokenize\n",
        "from nltk                             import SnowballStemmer\n",
        "from sklearn.feature_extraction.text  import TfidfVectorizer\n",
        "from sklearn.preprocessing            import normalize\n",
        "\n",
        "nltk.download('stopwords')\n",
        "nltk.download('punkt')"
      ]
    },
    {
      "cell_type": "markdown",
      "metadata": {
        "id": "n2vndw88M_ye"
      },
      "source": [
        "# Lendo os dados"
      ]
    },
    {
      "cell_type": "markdown",
      "metadata": {
        "id": "nblduHBrQRRf"
      },
      "source": [
        "Os dados são compostos por 3000 comentários sobre diferentes marcas no Twitter."
      ]
    },
    {
      "cell_type": "code",
      "execution_count": 3,
      "metadata": {
        "id": "RKDeuNejUCxY"
      },
      "outputs": [],
      "source": [
        "data = pd.read_csv('https://gist.githubusercontent.com/issilva5/993ff7c0d82fa3db85396740aaedbf63/raw/54242a8540a8c048775957f0f609ee5c774966bb/tweets.csv')"
      ]
    },
    {
      "cell_type": "code",
      "execution_count": 4,
      "metadata": {},
      "outputs": [
        {
          "data": {
            "text/html": [
              "<div>\n",
              "<style scoped>\n",
              "    .dataframe tbody tr th:only-of-type {\n",
              "        vertical-align: middle;\n",
              "    }\n",
              "\n",
              "    .dataframe tbody tr th {\n",
              "        vertical-align: top;\n",
              "    }\n",
              "\n",
              "    .dataframe thead th {\n",
              "        text-align: right;\n",
              "    }\n",
              "</style>\n",
              "<table border=\"1\" class=\"dataframe\">\n",
              "  <thead>\n",
              "    <tr style=\"text-align: right;\">\n",
              "      <th></th>\n",
              "      <th>tid</th>\n",
              "      <th>page</th>\n",
              "      <th>sentiment</th>\n",
              "      <th>text</th>\n",
              "    </tr>\n",
              "  </thead>\n",
              "  <tbody>\n",
              "    <tr>\n",
              "      <th>0</th>\n",
              "      <td>785</td>\n",
              "      <td>ApexLegends</td>\n",
              "      <td>Negative</td>\n",
              "      <td>Got Pred! Flew through plt 2 to dim 1 then we ...</td>\n",
              "    </tr>\n",
              "    <tr>\n",
              "      <th>1</th>\n",
              "      <td>13177</td>\n",
              "      <td>Xbox(Xseries)</td>\n",
              "      <td>Negative</td>\n",
              "      <td>Where is everyone sayin how big the xbox was a...</td>\n",
              "    </tr>\n",
              "    <tr>\n",
              "      <th>2</th>\n",
              "      <td>9645</td>\n",
              "      <td>PlayStation5(PS5)</td>\n",
              "      <td>Positive</td>\n",
              "      <td>Then Amazing.</td>\n",
              "    </tr>\n",
              "    <tr>\n",
              "      <th>3</th>\n",
              "      <td>3260</td>\n",
              "      <td>Facebook</td>\n",
              "      <td>Negative</td>\n",
              "      <td>Left Instagram because no body shows me love. ...</td>\n",
              "    </tr>\n",
              "    <tr>\n",
              "      <th>4</th>\n",
              "      <td>12758</td>\n",
              "      <td>WorldOfCraft</td>\n",
              "      <td>Negative</td>\n",
              "      <td>Seriously, is it hard to make a good remake? G...</td>\n",
              "    </tr>\n",
              "  </tbody>\n",
              "</table>\n",
              "</div>"
            ],
            "text/plain": [
              "     tid               page sentiment  \\\n",
              "0    785        ApexLegends  Negative   \n",
              "1  13177      Xbox(Xseries)  Negative   \n",
              "2   9645  PlayStation5(PS5)  Positive   \n",
              "3   3260           Facebook  Negative   \n",
              "4  12758       WorldOfCraft  Negative   \n",
              "\n",
              "                                                text  \n",
              "0  Got Pred! Flew through plt 2 to dim 1 then we ...  \n",
              "1  Where is everyone sayin how big the xbox was a...  \n",
              "2                                      Then Amazing.  \n",
              "3  Left Instagram because no body shows me love. ...  \n",
              "4  Seriously, is it hard to make a good remake? G...  "
            ]
          },
          "execution_count": 4,
          "metadata": {},
          "output_type": "execute_result"
        }
      ],
      "source": [
        "data.head()"
      ]
    },
    {
      "cell_type": "code",
      "execution_count": 5,
      "metadata": {
        "colab": {
          "base_uri": "https://localhost:8080/",
          "height": 363
        },
        "id": "pWrRBg2n4rbc",
        "outputId": "12346802-b56f-4895-ff94-cf5208caf86e"
      },
      "outputs": [
        {
          "data": {
            "text/html": [
              "<div>\n",
              "<style scoped>\n",
              "    .dataframe tbody tr th:only-of-type {\n",
              "        vertical-align: middle;\n",
              "    }\n",
              "\n",
              "    .dataframe tbody tr th {\n",
              "        vertical-align: top;\n",
              "    }\n",
              "\n",
              "    .dataframe thead th {\n",
              "        text-align: right;\n",
              "    }\n",
              "</style>\n",
              "<table border=\"1\" class=\"dataframe\">\n",
              "  <thead>\n",
              "    <tr style=\"text-align: right;\">\n",
              "      <th></th>\n",
              "      <th>sentiment</th>\n",
              "      <th>text</th>\n",
              "    </tr>\n",
              "  </thead>\n",
              "  <tbody>\n",
              "    <tr>\n",
              "      <th>0</th>\n",
              "      <td>Negative</td>\n",
              "      <td>Got Pred! Flew through plt 2 to dim 1 then we ...</td>\n",
              "    </tr>\n",
              "    <tr>\n",
              "      <th>1</th>\n",
              "      <td>Negative</td>\n",
              "      <td>Where is everyone sayin how big the xbox was a...</td>\n",
              "    </tr>\n",
              "    <tr>\n",
              "      <th>2</th>\n",
              "      <td>Positive</td>\n",
              "      <td>Then Amazing.</td>\n",
              "    </tr>\n",
              "    <tr>\n",
              "      <th>3</th>\n",
              "      <td>Negative</td>\n",
              "      <td>Left Instagram because no body shows me love. ...</td>\n",
              "    </tr>\n",
              "    <tr>\n",
              "      <th>4</th>\n",
              "      <td>Negative</td>\n",
              "      <td>Seriously, is it hard to make a good remake? G...</td>\n",
              "    </tr>\n",
              "    <tr>\n",
              "      <th>5</th>\n",
              "      <td>Positive</td>\n",
              "      <td>The price is incredible.</td>\n",
              "    </tr>\n",
              "    <tr>\n",
              "      <th>6</th>\n",
              "      <td>Positive</td>\n",
              "      <td>First Fifa I like in a long long while. A.I ac...</td>\n",
              "    </tr>\n",
              "    <tr>\n",
              "      <th>7</th>\n",
              "      <td>Negative</td>\n",
              "      <td>Y’all call of duty PRO kids lame as fuck. Y’al...</td>\n",
              "    </tr>\n",
              "    <tr>\n",
              "      <th>8</th>\n",
              "      <td>Positive</td>\n",
              "      <td>So i just had both a good TDM match as a snipe...</td>\n",
              "    </tr>\n",
              "    <tr>\n",
              "      <th>9</th>\n",
              "      <td>Negative</td>\n",
              "      <td>Leave those ugly crack ass pictures on Facebook.</td>\n",
              "    </tr>\n",
              "  </tbody>\n",
              "</table>\n",
              "</div>"
            ],
            "text/plain": [
              "  sentiment                                               text\n",
              "0  Negative  Got Pred! Flew through plt 2 to dim 1 then we ...\n",
              "1  Negative  Where is everyone sayin how big the xbox was a...\n",
              "2  Positive                                      Then Amazing.\n",
              "3  Negative  Left Instagram because no body shows me love. ...\n",
              "4  Negative  Seriously, is it hard to make a good remake? G...\n",
              "5  Positive                           The price is incredible.\n",
              "6  Positive  First Fifa I like in a long long while. A.I ac...\n",
              "7  Negative  Y’all call of duty PRO kids lame as fuck. Y’al...\n",
              "8  Positive  So i just had both a good TDM match as a snipe...\n",
              "9  Negative   Leave those ugly crack ass pictures on Facebook."
            ]
          },
          "execution_count": 5,
          "metadata": {},
          "output_type": "execute_result"
        }
      ],
      "source": [
        "data[['sentiment', 'text']].head(10)"
      ]
    },
    {
      "cell_type": "markdown",
      "metadata": {
        "id": "Jizka3gYNC6e"
      },
      "source": [
        "# Processamento dos dados"
      ]
    },
    {
      "cell_type": "code",
      "execution_count": 7,
      "metadata": {
        "id": "e6WeWkJA3fhL"
      },
      "outputs": [
        {
          "name": "stderr",
          "output_type": "stream",
          "text": [
            "<>:28: SyntaxWarning: invalid escape sequence '\\W'\n",
            "<>:29: SyntaxWarning: invalid escape sequence '\\S'\n",
            "<>:30: SyntaxWarning: invalid escape sequence '\\S'\n",
            "<>:28: SyntaxWarning: invalid escape sequence '\\W'\n",
            "<>:29: SyntaxWarning: invalid escape sequence '\\S'\n",
            "<>:30: SyntaxWarning: invalid escape sequence '\\S'\n",
            "/tmp/ipykernel_120063/1745253805.py:28: SyntaxWarning: invalid escape sequence '\\W'\n",
            "  corpus[index] = re.sub('\\W_',' ', corpus[index])        # removes specials characters and leaves only words\n",
            "/tmp/ipykernel_120063/1745253805.py:29: SyntaxWarning: invalid escape sequence '\\S'\n",
            "  corpus[index] = re.sub(\"\\S*\\d\\S*\",\" \", corpus[index])   # removes numbers and words concatenated with numbers IE h4ck3r. Removes road names such as BR-381.\n",
            "/tmp/ipykernel_120063/1745253805.py:30: SyntaxWarning: invalid escape sequence '\\S'\n",
            "  corpus[index] = re.sub(\"\\S*@\\S*\\s?\",\" \", corpus[index]) # removes emails and mentions (words with @)\n"
          ]
        }
      ],
      "source": [
        "# removes a list of words (ie. stopwords) from a tokenized list.\n",
        "def removeWords(listOfTokens, listOfWords):\n",
        "    return [token for token in listOfTokens if token not in listOfWords]\n",
        "\n",
        "# applies stemming (reduzir palavras aos seus radicais) to a list of tokenized words\n",
        "def applyStemming(listOfTokens, stemmer):\n",
        "    return [stemmer.stem(token) for token in listOfTokens]\n",
        "\n",
        "# removes any words composed of less than 2 or more than 21 letters\n",
        "def twoLetters(listOfTokens):\n",
        "    twoLetterWord = []\n",
        "    for token in listOfTokens:\n",
        "        if len(token) <= 2 or len(token) >= 21:\n",
        "            twoLetterWord.append(token)\n",
        "    return twoLetterWord\n",
        "\n",
        "def processCorpus(corpus, language):\n",
        "    stopwords = nltk.corpus.stopwords.words(language)\n",
        "    param_stemmer = SnowballStemmer(language)\n",
        "\n",
        "    for document in corpus:\n",
        "        index = corpus.index(document)\n",
        "        corpus[index] = corpus[index].replace(u'\\ufffd', '8')   # Replaces the ASCII '�' symbol with '8'\n",
        "        corpus[index] = corpus[index].replace(',', '')          # Removes commas\n",
        "        corpus[index] = corpus[index].rstrip('\\n')              # Removes line breaks\n",
        "        corpus[index] = corpus[index].casefold()                # Makes all letters lowercase\n",
        "\n",
        "        corpus[index] = re.sub('\\W_',' ', corpus[index])        # removes specials characters and leaves only words\n",
        "        corpus[index] = re.sub(\"\\S*\\d\\S*\",\" \", corpus[index])   # removes numbers and words concatenated with numbers IE h4ck3r. Removes road names such as BR-381.\n",
        "        corpus[index] = re.sub(\"\\S*@\\S*\\s?\",\" \", corpus[index]) # removes emails and mentions (words with @)\n",
        "        corpus[index] = re.sub(r'http\\S+', '', corpus[index])   # removes URLs with http\n",
        "        corpus[index] = re.sub(r'www\\S+', '', corpus[index])    # removes URLs with www\n",
        "\n",
        "        listOfTokens = word_tokenize(corpus[index])\n",
        "        twoLetterWord = twoLetters(listOfTokens)\n",
        "\n",
        "        listOfTokens = removeWords(listOfTokens, stopwords)\n",
        "        listOfTokens = removeWords(listOfTokens, twoLetterWord)\n",
        "\n",
        "        listOfTokens = applyStemming(listOfTokens, param_stemmer)\n",
        "\n",
        "        corpus[index]   = \" \".join(listOfTokens)\n",
        "        corpus[index] = unidecode(corpus[index])\n",
        "\n",
        "    return corpus"
      ]
    },
    {
      "cell_type": "code",
      "execution_count": 8,
      "metadata": {
        "colab": {
          "base_uri": "https://localhost:8080/",
          "height": 35
        },
        "id": "9fFkYemxmIfI",
        "outputId": "3a6debe7-335e-42c6-9fb5-2650548514fb"
      },
      "outputs": [
        {
          "name": "stderr",
          "output_type": "stream",
          "text": [
            "<>:2: SyntaxWarning: invalid escape sequence '\\W'\n",
            "<>:2: SyntaxWarning: invalid escape sequence '\\W'\n",
            "/tmp/ipykernel_120063/801139752.py:2: SyntaxWarning: invalid escape sequence '\\W'\n",
            "  re.sub('\\W_',' ',teste)\n"
          ]
        },
        {
          "data": {
            "text/plain": [
              "['oioio', '!', '!', ',', 'poopo']"
            ]
          },
          "execution_count": 8,
          "metadata": {},
          "output_type": "execute_result"
        }
      ],
      "source": [
        "teste = \"oioio!!, poOpo\"\n",
        "re.sub('\\W_',' ',teste)\n",
        "word_tokenize(teste.casefold())"
      ]
    },
    {
      "cell_type": "code",
      "execution_count": 9,
      "metadata": {
        "id": "pNKBdjWv4nrE"
      },
      "outputs": [],
      "source": [
        "corpus = processCorpus(data['text'].tolist(), 'english')"
      ]
    },
    {
      "cell_type": "code",
      "execution_count": 12,
      "metadata": {
        "colab": {
          "base_uri": "https://localhost:8080/"
        },
        "id": "5epKn_2eR1vk",
        "outputId": "703bed0d-bf8c-4170-f59f-aabaae058799"
      },
      "outputs": [
        {
          "name": "stdout",
          "output_type": "stream",
          "text": [
            "Texto original: I really hate how balance in the team separates you from your friends on Battlefield 4\n",
            "\n",
            "Texto processado: realli hate balanc team separ friend battlefield\n",
            "\n",
            "------------\n",
            "\n",
            "Texto original: The big tech giants Twitter, Facebook and Google need to be broken up and regulated; they have proved themselves corrupt propagandists, control too much and are too powerful; their values are liberal and cannot control the flow of information; just look at their \"Head of Integrity\"! pic.twitter.com / otvpZWevy1\n",
            "\n",
            "Texto processado: big tech giant twitter facebook googl need broken regul prove corrupt propagandist control much power valu liber control flow inform look head integr pic.twitter.com\n"
          ]
        }
      ],
      "source": [
        "print('Texto original:', data['text'].tolist()[44])\n",
        "print()\n",
        "print('Texto processado:', corpus[44])\n",
        "print()\n",
        "print('-'*12)\n",
        "print()\n",
        "print('Texto original:', data['text'].tolist()[1876])\n",
        "print()\n",
        "print('Texto processado:', corpus[1876])"
      ]
    },
    {
      "cell_type": "markdown",
      "metadata": {
        "id": "xWbJyEGCNJJN"
      },
      "source": [
        "# Treinando o modelo de Regressão Logística"
      ]
    },
    {
      "cell_type": "markdown",
      "metadata": {
        "id": "Bg4gVdtsQ0ee"
      },
      "source": [
        "Vetorização do texto processado:"
      ]
    },
    {
      "cell_type": "code",
      "execution_count": 13,
      "metadata": {
        "id": "DzuyruZd6INu"
      },
      "outputs": [],
      "source": [
        "vectorizer = TfidfVectorizer()\n",
        "X = vectorizer.fit_transform(corpus)\n",
        "y = data['sentiment'].to_numpy()"
      ]
    },
    {
      "cell_type": "code",
      "execution_count": 14,
      "metadata": {},
      "outputs": [
        {
          "data": {
            "text/plain": [
              "{'got': 1846,\n",
              " 'pred': 3247,\n",
              " 'flew': 1617,\n",
              " 'plt': 3200,\n",
              " 'dim': 1196,\n",
              " 'hit': 2027,\n",
              " 'massiv': 2618,\n",
              " 'wall': 4678,\n",
              " 'everi': 1450,\n",
              " 'game': 1741,\n",
              " 'becam': 394,\n",
              " 'struggl': 4121,\n",
              " 'kept': 2320,\n",
              " 'die': 1187,\n",
              " 'noth': 2914,\n",
              " 'go': 1816,\n",
              " 'way': 4704,\n",
              " 'want': 4683,\n",
              " 'give': 1796,\n",
              " 'suck': 4146,\n",
              " 'grind': 1885,\n",
              " 'took': 4370,\n",
              " 'hrs': 2072,\n",
              " 'get': 1781,\n",
              " 'that': 4276,\n",
              " 'bad': 338,\n",
              " 'everyon': 1454,\n",
              " 'sayin': 3689,\n",
              " 'big': 439,\n",
              " 'xbox': 4836,\n",
              " 'fridg': 1696,\n",
              " 'sound': 3987,\n",
              " 'dumb': 1304,\n",
              " 'hell': 1996,\n",
              " 'lmao': 2478,\n",
              " 'amaz': 138,\n",
              " 'left': 2412,\n",
              " 'instagram': 2192,\n",
              " 'bodi': 505,\n",
              " 'show': 3839,\n",
              " 'love': 2521,\n",
              " 'facebook': 1502,\n",
              " 'feel': 1558,\n",
              " 'twitter': 4466,\n",
              " 'still': 4091,\n",
              " 'spare': 3996,\n",
              " 'serious': 3764,\n",
              " 'hard': 1953,\n",
              " 'make': 2579,\n",
              " 'good': 1832,\n",
              " 'remak': 3501,\n",
              " 'gosh': 1844,\n",
              " 'thought': 4306,\n",
              " 'could': 962,\n",
              " 'wors': 4809,\n",
              " 'warcraft': 4686,\n",
              " 'reforg': 3473,\n",
              " 'definit': 1119,\n",
              " 'wrong': 4823,\n",
              " 'price': 3268,\n",
              " 'incred': 2153,\n",
              " 'first': 1600,\n",
              " 'fifa': 1577,\n",
              " 'like': 2449,\n",
              " 'long': 2502,\n",
              " 'actual': 39,\n",
              " 'intellig': 2201,\n",
              " 'call': 631,\n",
              " 'duti': 1315,\n",
              " 'pro': 3281,\n",
              " 'kid': 2329,\n",
              " 'lame': 2364,\n",
              " 'fuck': 1707,\n",
              " 'million': 2712,\n",
              " 'children': 756,\n",
              " 'use': 4571,\n",
              " 'post': 3229,\n",
              " 'help': 2001,\n",
              " 'inform': 2173,\n",
              " 'men': 2666,\n",
              " 'regard': 3477,\n",
              " 'assault': 269,\n",
              " 'batteri': 374,\n",
              " 'decid': 1105,\n",
              " 'problem': 3285,\n",
              " 'tdm': 4229,\n",
              " 'match': 2621,\n",
              " 'sniper': 3941,\n",
              " 'shot': 3833,\n",
              " 'fav': 1541,\n",
              " 'lee': 2410,\n",
              " 'enfield': 1397,\n",
              " 'enjoy': 1402,\n",
              " 'gain': 1737,\n",
              " 'new': 2874,\n",
              " 'unexpect': 4508,\n",
              " 'well': 4725,\n",
              " 'aim': 92,\n",
              " 'look': 2506,\n",
              " 'glorious': 1810,\n",
              " 'leav': 2407,\n",
              " 'ugli': 4482,\n",
              " 'crack': 983,\n",
              " 'ass': 266,\n",
              " 'pictur': 3149,\n",
              " 'bandainamc': 352,\n",
              " 'nobodi': 2893,\n",
              " 'appreci': 215,\n",
              " 'remov': 3507,\n",
              " 'nvidia': 2938,\n",
              " 'geforc': 1762,\n",
              " 'ad': 40,\n",
              " 'back': 333,\n",
              " 'huh': 2081,\n",
              " 'verizon': 4606,\n",
              " 'given': 1798,\n",
              " 'data': 1074,\n",
              " 'free': 1688,\n",
              " 'april': 217,\n",
              " 'nice': 2885,\n",
              " 'bruh': 582,\n",
              " 'dream': 1286,\n",
              " 'arent': 227,\n",
              " 'sad': 3658,\n",
              " 'anymor': 190,\n",
              " 'fucken': 1708,\n",
              " 'apex': 200,\n",
              " 'legend': 2415,\n",
              " 'bro': 569,\n",
              " 'eamaddennfl': 1325,\n",
              " 'clintoldenburg': 799,\n",
              " 'abl': 4,\n",
              " 'load': 2485,\n",
              " 'updat': 4557,\n",
              " 'didnt': 1186,\n",
              " 'bought': 529,\n",
              " 'death': 1096,\n",
              " 'strand': 4107,\n",
              " 'wait': 4673,\n",
              " 'cyberpunk': 1049,\n",
              " 'complaint': 875,\n",
              " 'lol': 2499,\n",
              " 'assassin': 268,\n",
              " 'revel': 3557,\n",
              " 'also': 130,\n",
              " 'singl': 3878,\n",
              " 'best': 421,\n",
              " 'end': 1393,\n",
              " 'across': 34,\n",
              " 'video': 4620,\n",
              " 'seri': 3761,\n",
              " 'chang': 719,\n",
              " 'mind': 2715,\n",
              " 'audio': 299,\n",
              " 'voic': 4653,\n",
              " 'nois': 2895,\n",
              " 'reduct': 3465,\n",
              " 'capabl': 652,\n",
              " 'artifici': 246,\n",
              " 'learn': 2403,\n",
              " 'realli': 3433,\n",
              " 'hate': 1963,\n",
              " 'worst': 4810,\n",
              " 'gameplay': 1745,\n",
              " 'code': 824,\n",
              " 'time': 4337,\n",
              " 'hahaha': 1929,\n",
              " 'intern': 2208,\n",
              " 'news': 2877,\n",
              " 'week': 4719,\n",
              " 'quarantin': 3364,\n",
              " 'bore': 521,\n",
              " 'play': 3180,\n",
              " 'anyon': 191,\n",
              " 'pleas': 3193,\n",
              " 'read': 3422,\n",
              " 'home': 2044,\n",
              " 'depot': 1144,\n",
              " 'ghoulish': 1787,\n",
              " 'bare': 360,\n",
              " 'bon': 511,\n",
              " 'giant': 1790,\n",
              " 'becom': 395,\n",
              " 'one': 2987,\n",
              " 'sought': 3985,\n",
              " 'out': 3023,\n",
              " 'decor': 1110,\n",
              " 'piec': 3150,\n",
              " 'most': 2778,\n",
              " 'thank': 4275,\n",
              " 'social': 3945,\n",
              " 'media': 2650,\n",
              " 'meme': 2661,\n",
              " 'unit': 4522,\n",
              " 'hearthston': 1984,\n",
              " 'communiti': 861,\n",
              " 'shadowjewel': 3787,\n",
              " 'hanar': 1938,\n",
              " 'liter': 2467,\n",
              " 'instant': 2194,\n",
              " 'reaction': 3421,\n",
              " 'someon': 3961,\n",
              " 'listen': 2465,\n",
              " 'world': 4806,\n",
              " 'music': 2815,\n",
              " 'ambianc': 145,\n",
              " 'gorgrond': 1843,\n",
              " 'everbloom': 1449,\n",
              " 'hour': 2066,\n",
              " 'melt': 2659,\n",
              " 'place': 3169,\n",
              " 'much': 2803,\n",
              " 'mani': 2593,\n",
              " 'memori': 2665,\n",
              " 'genuin': 1777,\n",
              " 'favorit': 1544,\n",
              " 'locat': 2490,\n",
              " 'fiction': 1575,\n",
              " 'gta': 1899,\n",
              " 'comin': 850,\n",
              " 'll': 2477,\n",
              " 'take': 4208,\n",
              " 'person': 3126,\n",
              " 'copi': 949,\n",
              " 'leagu': 2399,\n",
              " 'commit': 857,\n",
              " 'plagu': 3171,\n",
              " 'upon': 4561,\n",
              " 'human': 2082,\n",
              " 'strang': 4108,\n",
              " 'enough': 1403,\n",
              " 'red': 3455,\n",
              " 'dead': 1088,\n",
              " 'upris': 4563,\n",
              " 'right': 3582,\n",
              " 'frustrat': 1705,\n",
              " 'owe': 3050,\n",
              " 'miss': 2728,\n",
              " 'convers': 935,\n",
              " 'brought': 576,\n",
              " 'mobil': 2744,\n",
              " 'amazon': 141,\n",
              " 'india': 2156,\n",
              " 'emi': 1379,\n",
              " 'facil': 1506,\n",
              " 'via': 4615,\n",
              " 'rbl': 3418,\n",
              " 'bank': 356,\n",
              " 'credit': 997,\n",
              " 'line': 2458,\n",
              " 'final': 1586,\n",
              " 'sent': 3756,\n",
              " 'statement': 4069,\n",
              " 'total': 4379,\n",
              " 'valu': 4586,\n",
              " 'deliv': 1125,\n",
              " 'servic': 3767,\n",
              " 'absolut': 8,\n",
              " 'worth': 4811,\n",
              " 'poster': 3230,\n",
              " 'let': 2433,\n",
              " 'celebr': 694,\n",
              " 'told': 4363,\n",
              " 'xbot': 4835,\n",
              " 'imposs': 2137,\n",
              " 'friend': 1697,\n",
              " 'pass': 3086,\n",
              " 'unk': 4525,\n",
              " 'avail': 310,\n",
              " 'within': 4785,\n",
              " 'playstat': 3190,\n",
              " 'store': 4101,\n",
              " 'need': 2856,\n",
              " 'fix': 1609,\n",
              " 'support': 4166,\n",
              " 'campaign': 641,\n",
              " 'deregul': 1148,\n",
              " 'sign': 3861,\n",
              " 'next': 2880,\n",
              " 'borderland': 520,\n",
              " 'handsom': 1943,\n",
              " 'council': 964,\n",
              " 'guy': 1919,\n",
              " 'hype': 2096,\n",
              " 'wonder': 4797,\n",
              " 'felt': 1563,\n",
              " 'today': 4357,\n",
              " 'playerunknown': 3184,\n",
              " 'battleground': 378,\n",
              " 'demo': 1134,\n",
              " 'casey': 670,\n",
              " 'chanc': 718,\n",
              " 'shadowland': 3788,\n",
              " 'shit': 3819,\n",
              " 'pretti': 3264,\n",
              " 'complic': 878,\n",
              " 'lvling': 2547,\n",
              " 'choos': 766,\n",
              " 'proper': 3310,\n",
              " 'essenc': 1434,\n",
              " 'life': 2445,\n",
              " 'trait': 4398,\n",
              " 'order': 3010,\n",
              " 'improv': 2140,\n",
              " 'overr': 3045,\n",
              " 'unsubscrib': 4548,\n",
              " 'faster': 1534,\n",
              " 'hospit': 2060,\n",
              " 'connect': 903,\n",
              " 'live': 2472,\n",
              " 'save': 3686,\n",
              " 'cool': 941,\n",
              " 'see': 3739,\n",
              " 'technolog': 4241,\n",
              " 'doctor': 1239,\n",
              " 'vital': 4647,\n",
              " 'healthcar': 1977,\n",
              " 'product': 3289,\n",
              " 'underserv': 4503,\n",
              " 'peopl': 3114,\n",
              " 'narwhalsulki': 2836,\n",
              " 'super': 4161,\n",
              " 'surpris': 4172,\n",
              " 'anoth': 182,\n",
              " 'gift': 1791,\n",
              " 'turn': 4459,\n",
              " 'headphon': 1972,\n",
              " 'think': 4297,\n",
              " 'cheekbon': 744,\n",
              " 'might': 2702,\n",
              " 'fine': 1590,\n",
              " 'pic': 3145,\n",
              " 'com': 840,\n",
              " 'pqmvtnmvuh': 3239,\n",
              " 'kakaia': 2305,\n",
              " 'milashka': 2706,\n",
              " 'balanc': 345,\n",
              " 'team': 4232,\n",
              " 'separ': 3758,\n",
              " 'battlefield': 377,\n",
              " 'know': 2347,\n",
              " 'forward': 1668,\n",
              " 'watch': 4700,\n",
              " 'trent': 4416,\n",
              " 'sterl': 4085,\n",
              " 'select': 3746,\n",
              " 'class': 787,\n",
              " 'unlock': 4529,\n",
              " 'glitch': 1808,\n",
              " 'beauti': 393,\n",
              " 'dynam': 1319,\n",
              " 'map': 2602,\n",
              " 'honest': 2047,\n",
              " 'stupid': 4130,\n",
              " 'fast': 1533,\n",
              " 'announc': 178,\n",
              " 'remast': 3503,\n",
              " 'instead': 2195,\n",
              " 'compani': 864,\n",
              " 'said': 3662,\n",
              " 'dice': 1180,\n",
              " 'lose': 2513,\n",
              " 'whoa': 4748,\n",
              " 'doubl': 1263,\n",
              " 'blue': 498,\n",
              " 'white': 4745,\n",
              " 'due': 1302,\n",
              " 'lack': 2358,\n",
              " 'incom': 2149,\n",
              " 'forc': 1648,\n",
              " 'dota': 1262,\n",
              " 'repres': 3519,\n",
              " 'pupcol': 3343,\n",
              " 'somebodi': 3958,\n",
              " 'featur': 1550,\n",
              " 'written': 4822,\n",
              " 'gen': 1763,\n",
              " 'alreadi': 128,\n",
              " 'thing': 4296,\n",
              " 'ever': 1448,\n",
              " 'done': 1250,\n",
              " 'omfg': 2982,\n",
              " 'glad': 1800,\n",
              " 'wolf': 4793,\n",
              " 'granni': 1865,\n",
              " 'battl': 375,\n",
              " 'guildi': 1909,\n",
              " 'import': 2136,\n",
              " 'happi': 1948,\n",
              " 'idk': 2112,\n",
              " 'cant': 649,\n",
              " 'concentr': 883,\n",
              " 'draw': 1284,\n",
              " 'wrathion': 4817,\n",
              " 'awesom': 324,\n",
              " 'great': 1872,\n",
              " 'server': 3766,\n",
              " 'qual': 3360,\n",
              " 'guess': 1906,\n",
              " 'rubberband': 3637,\n",
              " 'reload': 3499,\n",
              " 'mark': 2606,\n",
              " 'zuckerberg': 4894,\n",
              " 'part': 3080,\n",
              " 'discuss': 1213,\n",
              " 'along': 125,\n",
              " 'sheryl': 3807,\n",
              " 'sandberg': 3676,\n",
              " 'encourag': 1392,\n",
              " 'conspiraci': 916,\n",
              " 'theori': 4286,\n",
              " 'georg': 1779,\n",
              " 'soro': 3981,\n",
              " 'activ': 37,\n",
              " 'never': 2872,\n",
              " 'neutral': 2871,\n",
              " 'platform': 3178,\n",
              " 'consid': 910,\n",
              " 'stole': 4097,\n",
              " 'initi': 2179,\n",
              " 'idea': 2108,\n",
              " 'ridicul': 3580,\n",
              " 'women': 4796,\n",
              " 'trip': 4425,\n",
              " 'reward': 3566,\n",
              " 'seem': 3740,\n",
              " 'faint': 1513,\n",
              " 'edg': 1348,\n",
              " 'bing': 448,\n",
              " 'yeat': 4858,\n",
              " 'prime': 3271,\n",
              " 'produc': 3288,\n",
              " 'result': 3543,\n",
              " 'tiktok': 4330,\n",
              " 'vlog': 4650,\n",
              " 'youtub': 4871,\n",
              " 'shame': 3794,\n",
              " 'yet': 4862,\n",
              " 'power': 3236,\n",
              " 'onlin': 2989,\n",
              " 'audienc': 298,\n",
              " 'quit': 3376,\n",
              " 'cost': 960,\n",
              " 'dont': 1253,\n",
              " 'deserv': 1153,\n",
              " 'will': 4762,\n",
              " 'absorb': 9,\n",
              " 'madden': 2557,\n",
              " 'alway': 135,\n",
              " 'hitstick': 2029,\n",
              " 'put': 3351,\n",
              " 'stormzi': 4103,\n",
              " 'song': 3968,\n",
              " 'nba': 2846,\n",
              " 'rhandlerr': 3570,\n",
              " 'damn': 1063,\n",
              " 'even': 1445,\n",
              " 'lmfaoooooo': 2483,\n",
              " 'excit': 1467,\n",
              " 'nerd': 2864,\n",
              " 'trump': 4436,\n",
              " 'mistak': 2731,\n",
              " 'man': 2589,\n",
              " 'admit': 54,\n",
              " 'introspect': 2215,\n",
              " 'thus': 4322,\n",
              " 'vet': 4611,\n",
              " 'park': 3079,\n",
              " 'rick': 3576,\n",
              " 'roll': 3613,\n",
              " 'emt': 1388,\n",
              " 'fortnit': 1663,\n",
              " 'morn': 2774,\n",
              " 'come': 845,\n",
              " 'chill': 759,\n",
              " 'boy': 536,\n",
              " 'twitch': 4465,\n",
              " 'tv': 4460,\n",
              " 'vineboytv': 4633,\n",
              " 'baffl': 341,\n",
              " 'cmc': 814,\n",
              " 'close': 803,\n",
              " 'least': 2405,\n",
              " 'perform': 3118,\n",
              " 'top': 4372,\n",
              " 'categori': 680,\n",
              " 'last': 2378,\n",
              " 'season': 3730,\n",
              " 'bot': 524,\n",
              " 'crash': 988,\n",
              " 'dummi': 1308,\n",
              " 'bug': 595,\n",
              " 'must': 2817,\n",
              " 'experi': 1481,\n",
              " 'multipl': 2810,\n",
              " 'consol': 914,\n",
              " 'gamer': 1746,\n",
              " 'microsoft': 2694,\n",
              " 'system': 4199,\n",
              " 'truli': 4435,\n",
              " 'wow': 4814,\n",
              " 'start': 4065,\n",
              " 'hardlin': 1957,\n",
              " 'differ': 1190,\n",
              " 'interest': 2206,\n",
              " 'urban': 4567,\n",
              " 'warfar': 4688,\n",
              " 'weapon': 4711,\n",
              " 'gadget': 1735,\n",
              " 'beta': 427,\n",
              " 'cold': 831,\n",
              " 'war': 4685,\n",
              " 'black': 464,\n",
              " 'op': 2995,\n",
              " 'flightesport': 1621,\n",
              " 'youtube': 4872,\n",
              " 'vjoxvi': 4649,\n",
              " 'androiddev': 167,\n",
              " 'notic': 2915,\n",
              " 'upgrad': 4558,\n",
              " 'android': 166,\n",
              " 'gradl': 1861,\n",
              " 'plugin': 3201,\n",
              " 'googl': 1836,\n",
              " 'compil': 872,\n",
              " 'test': 4266,\n",
              " 'librari': 2442,\n",
              " 'retriev': 3553,\n",
              " 'resourc': 3534,\n",
              " 'exampl': 1464,\n",
              " 'detail': 1165,\n",
              " 'github': 1795,\n",
              " 'glureau': 1813,\n",
              " 'agp': 83,\n",
              " 'someth': 3962,\n",
              " 'mum': 2812,\n",
              " 'understand': 4504,\n",
              " 'less': 2430,\n",
              " 'solo': 3955,\n",
              " 'keep': 2316,\n",
              " 'seen': 3741,\n",
              " 'upload': 4560,\n",
              " 'circl': 776,\n",
              " 'screen': 3717,\n",
              " 'page': 3059,\n",
              " 'cds': 692,\n",
              " 'dev': 1169,\n",
              " 'rememb': 3504,\n",
              " 'creat': 993,\n",
              " 'timeout': 4340,\n",
              " 'ensur': 1405,\n",
              " 'item': 2239,\n",
              " 'contain': 924,\n",
              " 'transact': 4401,\n",
              " 'buy': 618,\n",
              " 'stock': 4095,\n",
              " 'johnson': 2278,\n",
              " 'lube': 2532,\n",
              " 'level': 2434,\n",
              " 'guarante': 1902,\n",
              " 'skyrocket': 3903,\n",
              " 'would': 4812,\n",
              " 'ultim': 4484,\n",
              " 'whitewash': 4747,\n",
              " 'uniform': 4518,\n",
              " 'public': 3332,\n",
              " 'categor': 679,\n",
              " 'prejudic': 3250,\n",
              " 'okay': 2976,\n",
              " 'nvm': 2943,\n",
              " 'overwatch': 3048,\n",
              " 'healer': 1975,\n",
              " 'anyth': 192,\n",
              " 'real': 3425,\n",
              " 'old': 2977,\n",
              " 're': 3419,\n",
              " 'choic': 763,\n",
              " 'minut': 2724,\n",
              " 'torb': 4373,\n",
              " 'adjust': 50,\n",
              " 'rate': 3409,\n",
              " 'cloth': 805,\n",
              " 'disrespect': 1224,\n",
              " 'goof': 1835,\n",
              " 'lmfaooo': 2481,\n",
              " 'amazonin': 144,\n",
              " 'amazonhelp': 143,\n",
              " 'cancel': 644,\n",
              " 'indic': 2158,\n",
              " 'custom': 1041,\n",
              " 'tri': 4419,\n",
              " 'deceiv': 1102,\n",
              " 'homedepot': 2045,\n",
              " 'kitten': 2342,\n",
              " 'condo': 889,\n",
              " 'queen': 3368,\n",
              " 'raider': 3391,\n",
              " 'tier': 4327,\n",
              " 'valv': 4588,\n",
              " 'player': 3183,\n",
              " 'scam': 3693,\n",
              " 'brother': 575,\n",
              " 'money': 2762,\n",
              " 'btw': 587,\n",
              " 'boutta': 533,\n",
              " 'build': 597,\n",
              " 'stuck': 4122,\n",
              " 'pitch': 3163,\n",
              " 'creed': 999,\n",
              " 'jerusalem': 2265,\n",
              " 'full': 1716,\n",
              " 'realiz': 3430,\n",
              " 'egypt': 1357,\n",
              " 'gear': 1758,\n",
              " 'score': 3710,\n",
              " 'raid': 3390,\n",
              " 'stuff': 4127,\n",
              " 'bf': 434,\n",
              " 'origin': 3016,\n",
              " 'bluescreen': 499,\n",
              " 'gotten': 1850,\n",
              " 'logic': 2496,\n",
              " 'error': 1428,\n",
              " 'cuz': 1046,\n",
              " 'name': 2833,\n",
              " 'dirti': 1201,\n",
              " 'without': 4786,\n",
              " 'smell': 3926,\n",
              " 'barca': 359,\n",
              " 'leather': 2406,\n",
              " 'gold': 1826,\n",
              " 'kit': 2341,\n",
              " 'sick': 3852,\n",
              " 'soon': 3973,\n",
              " 'ima': 2123,\n",
              " 'broken': 574,\n",
              " 'unproduct': 4538,\n",
              " 'made': 2558,\n",
              " 'room': 3621,\n",
              " 'artist': 247,\n",
              " 'wolv': 4794,\n",
              " 'prevent': 3265,\n",
              " 'paint': 3062,\n",
              " 'cop': 946,\n",
              " 'tomorrow': 4366,\n",
              " 'say': 3688,\n",
              " 'poor': 3221,\n",
              " 'state': 4068,\n",
              " 'rockstar': 3606,\n",
              " 'fool': 1641,\n",
              " 'inilaproprit': 2178,\n",
              " 'redempt': 3460,\n",
              " 'wan': 4681,\n",
              " 'cry': 1021,\n",
              " 'welp': 4726,\n",
              " 'salut': 3668,\n",
              " 'sir': 3883,\n",
              " 'acol': 31,\n",
              " 'leroy': 2428,\n",
              " 'congrat': 900,\n",
              " 'complet': 876,\n",
              " 'major': 2577,\n",
              " 'talk': 4214,\n",
              " 'exclus': 1468,\n",
              " 'bungi': 608,\n",
              " 'email': 1376,\n",
              " 'offer': 2963,\n",
              " 'sudden': 4148,\n",
              " 'kda': 2313,\n",
              " 'winx': 4773,\n",
              " 'club': 809,\n",
              " 'everyth': 1455,\n",
              " 'fun': 1720,\n",
              " 'four': 1672,\n",
              " 'plan': 3173,\n",
              " 'skin': 3898,\n",
              " 'releas': 3494,\n",
              " 'comeback': 846,\n",
              " 'sure': 4169,\n",
              " 'blast': 474,\n",
              " 'hope': 2052,\n",
              " 'station': 4071,\n",
              " 'conveni': 933,\n",
              " 'work': 4804,\n",
              " 'inexpens': 2164,\n",
              " 'sushi': 4175,\n",
              " 'striker': 4118,\n",
              " 'sonic': 3970,\n",
              " 'race': 3379,\n",
              " 'maniacsega': 2595,\n",
              " 'classic': 788,\n",
              " 'bomberman': 509,\n",
              " 'hero': 2005,\n",
              " 'lego': 2421,\n",
              " 'citi': 778,\n",
              " 'underground': 4499,\n",
              " 'owlboy': 3052,\n",
              " 'dark': 1070,\n",
              " 'soul': 3986,\n",
              " 'steed': 4080,\n",
              " 'splatoon': 4025,\n",
              " 'recommend': 3448,\n",
              " 'nintendo': 2891,\n",
              " 'switch': 4193,\n",
              " 'revers': 3561,\n",
              " 'pickup': 3147,\n",
              " 'sinc': 3874,\n",
              " 'februari': 1551,\n",
              " 'pick': 3146,\n",
              " 'refus': 3476,\n",
              " 'number': 2931,\n",
              " 'advic': 63,\n",
              " 'plz': 3205,\n",
              " 'cours': 972,\n",
              " 'bet': 426,\n",
              " 'earlier': 1328,\n",
              " 'tweet': 4462,\n",
              " 'cover': 975,\n",
              " 'three': 4311,\n",
              " 'month': 2767,\n",
              " 'bill': 443,\n",
              " 'wast': 4699,\n",
              " 'ant': 184,\n",
              " 'second': 3735,\n",
              " 'riddl': 3578,\n",
              " 'mess': 2678,\n",
              " 'abandon': 0,\n",
              " 'move': 2790,\n",
              " 'career': 662,\n",
              " 'mode': 2747,\n",
              " 'revolutionari': 3564,\n",
              " 'year': 4857,\n",
              " 'hello': 1998,\n",
              " 'bestbuy': 422,\n",
              " 'checkout': 742,\n",
              " 'queue': 3371,\n",
              " 'step': 4083,\n",
              " 'sold': 3951,\n",
              " 'twistz': 4464,\n",
              " 'photoshop': 3142,\n",
              " 'job': 2274,\n",
              " 'happen': 1946,\n",
              " 'oppon': 3000,\n",
              " 'tens': 4256,\n",
              " 'tip': 4345,\n",
              " 'breakpoint': 553,\n",
              " 'kind': 2335,\n",
              " 'obvious': 2953,\n",
              " 'rather': 3410,\n",
              " 'studi': 4125,\n",
              " 'anim': 171,\n",
              " 'basketbal': 370,\n",
              " 'tfw': 4273,\n",
              " 'battlenet': 379,\n",
              " 'duo': 1312,\n",
              " 'launch': 2385,\n",
              " 'ubisoft': 4478,\n",
              " 'ubisoftsupport': 4479,\n",
              " 'consul': 919,\n",
              " 'anoint': 181,\n",
              " 'clip': 800,\n",
              " 'hang': 1944,\n",
              " 'air': 94,\n",
              " 'twice': 4463,\n",
              " 'co': 817,\n",
              " 'hotfix': 2064,\n",
              " 'wraith': 4815,\n",
              " 'ping': 3156,\n",
              " 'wifi': 4755,\n",
              " 'biggest': 441,\n",
              " 'fail': 1511,\n",
              " 'emerg': 1378,\n",
              " 'phone': 3139,\n",
              " 'drop': 1296,\n",
              " 'went': 4728,\n",
              " 'came': 637,\n",
              " 'answer': 183,\n",
              " 'messag': 2679,\n",
              " 'text': 4268,\n",
              " 'bless': 477,\n",
              " 'girl': 1793,\n",
              " 'day': 1082,\n",
              " 'shoot': 3827,\n",
              " 'micah': 2690,\n",
              " 'sister': 3885,\n",
              " 'safe': 3659,\n",
              " 'racist': 3382,\n",
              " 'tell': 4247,\n",
              " 'light': 2447,\n",
              " 'bulletproof': 601,\n",
              " 'shotchi': 3834,\n",
              " 'gon': 1829,\n",
              " 'pink': 3157,\n",
              " 'diamond': 1178,\n",
              " 'moment': 2757,\n",
              " 'myteam': 2826,\n",
              " 'spend': 4013,\n",
              " 'mthe': 2801,\n",
              " 'lockout': 2493,\n",
              " 'coverag': 976,\n",
              " 'sometim': 3964,\n",
              " 'blitz': 481,\n",
              " 'uncov': 4498,\n",
              " 'report': 3517,\n",
              " 'issu': 2235,\n",
              " 'evolut': 1461,\n",
              " 'leak': 2401,\n",
              " 'blow': 495,\n",
              " 'ahead': 88,\n",
              " 'water': 4701,\n",
              " 'flip': 1622,\n",
              " 'particip': 3082,\n",
              " 'weekend': 4720,\n",
              " 'snipe': 3940,\n",
              " 'setup': 3773,\n",
              " 'tundra': 4454,\n",
              " 'pellington': 3109,\n",
              " 'youtu': 4870,\n",
              " 'endbqoxpua': 1395,\n",
              " 'wrap': 4816,\n",
              " 'stream': 4112,\n",
              " 'episod': 1418,\n",
              " 'screenshot': 3718,\n",
              " 'finish': 1593,\n",
              " 'addict': 44,\n",
              " 'kindr': 2337,\n",
              " 'lowkey': 2526,\n",
              " 'charg': 727,\n",
              " 'random': 3400,\n",
              " 'amount': 154,\n",
              " 'hey': 2008,\n",
              " 'ghostrecon': 1786,\n",
              " 'five': 1608,\n",
              " 'technic': 4239,\n",
              " 'difficulti': 1192,\n",
              " 'freddi': 1687,\n",
              " 'despis': 1159,\n",
              " 'gate': 1753,\n",
              " 'typic': 4473,\n",
              " 'ruthless': 3654,\n",
              " 'mob': 2742,\n",
              " 'schemer': 3703,\n",
              " 'demean': 1132,\n",
              " 'employe': 1385,\n",
              " 'conspir': 915,\n",
              " 'rip': 3589,\n",
              " 'busi': 611,\n",
              " 'partner': 3084,\n",
              " 'accord': 24,\n",
              " 'memoir': 2663,\n",
              " 'alleg': 115,\n",
              " 'founder': 1670,\n",
              " 'paul': 3097,\n",
              " 'ray': 3415,\n",
              " 'allen': 116,\n",
              " 'odel': 2958,\n",
              " 'high': 2014,\n",
              " 'bizarr': 462,\n",
              " 'spin': 4019,\n",
              " 'display': 1222,\n",
              " 'nfl': 2882,\n",
              " 'rethink': 3549,\n",
              " 'particular': 3083,\n",
              " 'easportsfifa': 1336,\n",
              " 'histori': 2026,\n",
              " 'rob': 3599,\n",
              " 'hop': 2051,\n",
              " 'shh': 3809,\n",
              " 'bring': 567,\n",
              " 'rokkr': 3611,\n",
              " 'attent': 292,\n",
              " 'execut': 1471,\n",
              " 'administr': 52,\n",
              " 'deliveri': 1126,\n",
              " 'pallet': 3067,\n",
              " 'brick': 562,\n",
              " 'downtown': 1272,\n",
              " 'area': 225,\n",
              " 'effect': 1352,\n",
              " 'main': 2571,\n",
              " 'negoti': 2859,\n",
              " 'destruct': 1163,\n",
              " 'privat': 3280,\n",
              " 'properti': 3311,\n",
              " 'ban': 349,\n",
              " 'moba': 2743,\n",
              " 'boot': 518,\n",
              " 'fuss': 1729,\n",
              " 'sideway': 3856,\n",
              " 'stare': 4063,\n",
              " 'uninstal': 4519,\n",
              " 'peak': 3107,\n",
              " 'imagin': 2125,\n",
              " 'immedi': 2130,\n",
              " 'shock': 3825,\n",
              " 'almost': 122,\n",
              " 'gna': 1815,\n",
              " 'asf': 255,\n",
              " 'sleep': 3912,\n",
              " 'trailer': 4395,\n",
              " 'movi': 2792,\n",
              " 'hole': 2038,\n",
              " 'later': 2380,\n",
              " 'wikipedia': 4758,\n",
              " 'org': 3011,\n",
              " 'annnnnnnd': 177,\n",
              " 'discov': 1210,\n",
              " 'bree': 556,\n",
              " 'serif': 3763,\n",
              " 'font': 1638,\n",
              " 'doc': 1238,\n",
              " 'despit': 1160,\n",
              " 'fact': 1508,\n",
              " 'current': 1034,\n",
              " 'poverti': 3234,\n",
              " 'access': 19,\n",
              " 'health': 1976,\n",
              " 'care': 661,\n",
              " 'anytim': 193,\n",
              " 'dell': 1127,\n",
              " 'xps': 4843,\n",
              " 'graphic': 1866,\n",
              " 'card': 660,\n",
              " 'flicker': 1619,\n",
              " 'dellxp': 1128,\n",
              " 'ago': 82,\n",
              " 'comput': 880,\n",
              " 'fatal': 1537,\n",
              " 'gpu': 1857,\n",
              " 'reboot': 3435,\n",
              " 'gtx': 1901,\n",
              " 'device': 1171,\n",
              " 'caus': 686,\n",
              " 'dude': 1301,\n",
              " 'guard': 1903,\n",
              " 'rent': 3510,\n",
              " 'blockbust': 488,\n",
              " 'introduc': 2213,\n",
              " 'footbal': 1644,\n",
              " 'manag': 2591,\n",
              " 'around': 239,\n",
              " 'sorri': 3982,\n",
              " 'account': 25,\n",
              " 'joke': 2281,\n",
              " 'though': 4305,\n",
              " 'tortur': 4375,\n",
              " 'fall': 1518,\n",
              " 'apart': 198,\n",
              " 'heartbreak': 1982,\n",
              " 'famili': 1521,\n",
              " 'content': 926,\n",
              " 'broke': 573,\n",
              " 'yyydfnvjldf': 4877,\n",
              " 'jeff': 2258,\n",
              " 'away': 322,\n",
              " 'offseason': 2967,\n",
              " 'activis': 38,\n",
              " 'log': 2495,\n",
              " 'mission': 2729,\n",
              " 'enter': 1407,\n",
              " 'address': 48,\n",
              " 'password': 3089,\n",
              " 'shown': 3841,\n",
              " 'stay': 4076,\n",
              " 'login': 2497,\n",
              " 'yes': 4859,\n",
              " 'configur': 895,\n",
              " 'offic': 2964,\n",
              " 'hacker': 1925,\n",
              " 'therefor': 4289,\n",
              " 'bother': 525,\n",
              " 'harder': 1955,\n",
              " 'bit': 454,\n",
              " 'grubber': 1896,\n",
              " 'reno': 3509,\n",
              " 'jackson': 2245,\n",
              " 'zero': 4883,\n",
              " 'auto': 307,\n",
              " 'sprint': 4040,\n",
              " 'csgo': 1024,\n",
              " 'possibl': 3228,\n",
              " 'continu': 930,\n",
              " 'progress': 3295,\n",
              " 'america': 148,\n",
              " 'explain': 1484,\n",
              " 'special': 4003,\n",
              " 'grow': 1892,\n",
              " 've': 4601,\n",
              " 'gambl': 1740,\n",
              " 'luck': 2534,\n",
              " 'tire': 4346,\n",
              " 'usual': 4576,\n",
              " 'art': 243,\n",
              " 'tbh': 4227,\n",
              " 'amd': 147,\n",
              " 'intel': 2200,\n",
              " 'jensen': 2260,\n",
              " 'wallet': 4679,\n",
              " 'constant': 917,\n",
              " 'modder': 2746,\n",
              " ...}"
            ]
          },
          "execution_count": 14,
          "metadata": {},
          "output_type": "execute_result"
        }
      ],
      "source": [
        "vectorizer.vocabulary_"
      ]
    },
    {
      "cell_type": "code",
      "execution_count": 15,
      "metadata": {},
      "outputs": [
        {
          "data": {
            "text/plain": [
              "array(['Negative', 'Negative', 'Positive', ..., 'Positive', 'Negative',\n",
              "       'Positive'], dtype=object)"
            ]
          },
          "execution_count": 15,
          "metadata": {},
          "output_type": "execute_result"
        }
      ],
      "source": [
        "y"
      ]
    },
    {
      "cell_type": "markdown",
      "metadata": {
        "id": "qeqQq-EqQtzI"
      },
      "source": [
        "Separação em treino e teste, na proporção 70/30:"
      ]
    },
    {
      "cell_type": "code",
      "execution_count": 16,
      "metadata": {
        "id": "dvhIKXWA6Oev"
      },
      "outputs": [],
      "source": [
        "X_train, X_test, y_train, y_test = train_test_split(X, y, train_size=.7)"
      ]
    },
    {
      "cell_type": "markdown",
      "metadata": {
        "id": "YTL2opnCQ4_2"
      },
      "source": [
        "Treinando o modelo (.fit):"
      ]
    },
    {
      "cell_type": "code",
      "execution_count": 17,
      "metadata": {
        "id": "7xQo2P4NsyA2"
      },
      "outputs": [],
      "source": [
        "clr = LogisticRegression(random_state=0).fit(X_train, y_train)\n",
        "cnb = MultinomialNB().fit(X_train, y_train)\n",
        "cmlp = MLPClassifier(random_state=0, max_iter=300, hidden_layer_sizes=(128,16,)).fit(X_train, y_train)"
      ]
    },
    {
      "cell_type": "markdown",
      "metadata": {
        "id": "kyNnxIAZNSV-"
      },
      "source": [
        "# Prevendo e avaliando"
      ]
    },
    {
      "cell_type": "markdown",
      "metadata": {
        "id": "sMJuZ8Z-NWu7"
      },
      "source": [
        "Para prever o identificador da classe:"
      ]
    },
    {
      "cell_type": "code",
      "execution_count": 18,
      "metadata": {
        "colab": {
          "base_uri": "https://localhost:8080/"
        },
        "id": "ZR9mcZPVNQk7",
        "outputId": "eb5fa9d5-13fd-442a-a77c-6f1eaafc2d35"
      },
      "outputs": [
        {
          "data": {
            "text/plain": [
              "array(['Negative', 'Positive', 'Negative', 'Positive', 'Negative',\n",
              "       'Positive', 'Positive', 'Positive', 'Negative', 'Negative'],\n",
              "      dtype=object)"
            ]
          },
          "execution_count": 18,
          "metadata": {},
          "output_type": "execute_result"
        }
      ],
      "source": [
        "clr.predict(X_test)[:10]"
      ]
    },
    {
      "cell_type": "code",
      "execution_count": 19,
      "metadata": {
        "colab": {
          "base_uri": "https://localhost:8080/"
        },
        "id": "yBPRaQRoTjA0",
        "outputId": "dd07650e-9914-4b2e-f8f0-5a6d51b5a20d"
      },
      "outputs": [
        {
          "data": {
            "text/plain": [
              "array(['Negative', 'Positive', 'Negative', 'Positive', 'Negative',\n",
              "       'Positive', 'Positive', 'Positive', 'Negative', 'Negative'],\n",
              "      dtype='<U8')"
            ]
          },
          "execution_count": 19,
          "metadata": {},
          "output_type": "execute_result"
        }
      ],
      "source": [
        "cnb.predict(X_test)[:10]"
      ]
    },
    {
      "cell_type": "code",
      "execution_count": 20,
      "metadata": {
        "colab": {
          "base_uri": "https://localhost:8080/"
        },
        "id": "fjVcUuqiVcXt",
        "outputId": "c410d913-b90b-482c-d91b-66a842fc8ea7"
      },
      "outputs": [
        {
          "data": {
            "text/plain": [
              "array(['Negative', 'Negative', 'Negative', 'Positive', 'Negative',\n",
              "       'Positive', 'Positive', 'Positive', 'Positive', 'Positive'],\n",
              "      dtype='<U8')"
            ]
          },
          "execution_count": 20,
          "metadata": {},
          "output_type": "execute_result"
        }
      ],
      "source": [
        "cmlp.predict(X_test)[:10]"
      ]
    },
    {
      "cell_type": "markdown",
      "metadata": {
        "id": "LZEfR7CsNaYu"
      },
      "source": [
        "Para prever probabilidade de pertencer a cada classe:"
      ]
    },
    {
      "cell_type": "code",
      "execution_count": 21,
      "metadata": {
        "colab": {
          "base_uri": "https://localhost:8080/"
        },
        "id": "5h0FwqrGPHWk",
        "outputId": "17498510-5401-437a-a9dd-0a5e19449704"
      },
      "outputs": [
        {
          "data": {
            "text/plain": [
              "array(['Negative', 'Positive'], dtype=object)"
            ]
          },
          "execution_count": 21,
          "metadata": {},
          "output_type": "execute_result"
        }
      ],
      "source": [
        "clr.classes_"
      ]
    },
    {
      "cell_type": "code",
      "execution_count": 22,
      "metadata": {
        "colab": {
          "base_uri": "https://localhost:8080/"
        },
        "id": "KP_CyWY4NVSM",
        "outputId": "d6c16c77-f811-442e-8f21-309d590165fc"
      },
      "outputs": [
        {
          "data": {
            "text/plain": [
              "array([[0.56489878, 0.43510122],\n",
              "       [0.46262483, 0.53737517],\n",
              "       [0.87507639, 0.12492361],\n",
              "       [0.37412854, 0.62587146],\n",
              "       [0.76765149, 0.23234851],\n",
              "       [0.26652673, 0.73347327],\n",
              "       [0.3275585 , 0.6724415 ],\n",
              "       [0.46713045, 0.53286955],\n",
              "       [0.52561443, 0.47438557],\n",
              "       [0.53768899, 0.46231101]])"
            ]
          },
          "execution_count": 22,
          "metadata": {},
          "output_type": "execute_result"
        }
      ],
      "source": [
        "clr.predict_proba(X_test)[:10]"
      ]
    },
    {
      "cell_type": "code",
      "execution_count": 23,
      "metadata": {
        "colab": {
          "base_uri": "https://localhost:8080/"
        },
        "id": "Q0p4uit6Tp9L",
        "outputId": "8ec8f185-adf8-4ecc-8cb2-685369c1d328"
      },
      "outputs": [
        {
          "data": {
            "text/plain": [
              "array([[0.56002832, 0.43997168],\n",
              "       [0.45794441, 0.54205559],\n",
              "       [0.88114819, 0.11885181],\n",
              "       [0.30892062, 0.69107938],\n",
              "       [0.8195864 , 0.1804136 ],\n",
              "       [0.22884122, 0.77115878],\n",
              "       [0.41179556, 0.58820444],\n",
              "       [0.41588438, 0.58411562],\n",
              "       [0.50130127, 0.49869873],\n",
              "       [0.50017158, 0.49982842]])"
            ]
          },
          "execution_count": 23,
          "metadata": {},
          "output_type": "execute_result"
        }
      ],
      "source": [
        "cnb.predict_proba(X_test)[:10]"
      ]
    },
    {
      "cell_type": "code",
      "execution_count": 24,
      "metadata": {
        "colab": {
          "base_uri": "https://localhost:8080/"
        },
        "id": "cufXXOHpVlTd",
        "outputId": "79a75126-01a2-4272-94b4-001329095cd4"
      },
      "outputs": [
        {
          "data": {
            "text/plain": [
              "array([[9.71181785e-01, 2.88182147e-02],\n",
              "       [5.74280254e-01, 4.25719746e-01],\n",
              "       [9.99976509e-01, 2.34907506e-05],\n",
              "       [3.34147383e-04, 9.99665853e-01],\n",
              "       [7.76792202e-01, 2.23207798e-01],\n",
              "       [7.50375186e-04, 9.99249625e-01],\n",
              "       [3.77908081e-04, 9.99622092e-01],\n",
              "       [1.36760956e-02, 9.86323904e-01],\n",
              "       [4.25921680e-01, 5.74078320e-01],\n",
              "       [1.11162526e-01, 8.88837474e-01]])"
            ]
          },
          "execution_count": 24,
          "metadata": {},
          "output_type": "execute_result"
        }
      ],
      "source": [
        "cmlp.predict_proba(X_test)[:10]"
      ]
    },
    {
      "cell_type": "markdown",
      "metadata": {
        "id": "5RhkYbg3eVa8"
      },
      "source": [
        "## Matriz de confusão\n",
        "\n",
        "A matriz de confusão fornece um meio de avaliar o êxito de um problema de classificação e onde ele comete erros (ou seja, onde ele se torna \"confuso\")."
      ]
    },
    {
      "cell_type": "code",
      "execution_count": 26,
      "metadata": {
        "id": "oxREOmEdeasl"
      },
      "outputs": [],
      "source": [
        "import seaborn as sns\n",
        "\n",
        "def plot_confusion_matrix(y_true, y_pred, labels=None) -> None:\n",
        "    cm = confusion_matrix(y_true, y_pred, labels=labels)\n",
        "\n",
        "    plt.figure(figsize=(len(labels), len(labels)))\n",
        "    sns.heatmap(\n",
        "        cm,\n",
        "        annot=True,\n",
        "        fmt='d',\n",
        "        cmap='Blues',\n",
        "        xticklabels=labels,\n",
        "        yticklabels=labels,\n",
        "    )\n",
        "    plt.xlabel('Predicted')\n",
        "    plt.ylabel('Actual')\n",
        "    plt.title('Confusion Matrix')\n",
        "    plt.show()"
      ]
    },
    {
      "cell_type": "code",
      "execution_count": 27,
      "metadata": {
        "colab": {
          "base_uri": "https://localhost:8080/",
          "height": 256
        },
        "id": "A5m8HalifdVc",
        "outputId": "838df70b-f6f8-4007-d6b2-cd4f504c0003"
      },
      "outputs": [
        {
          "data": {
            "image/png": "[encoded data removed]",
            "text/plain": [
              "<Figure size 200x200 with 2 Axes>"
            ]
          },
          "metadata": {},
          "output_type": "display_data"
        }
      ],
      "source": [
        "plot_confusion_matrix(y_test, clr.predict(X_test), labels=['Negative', 'Positive'])"
      ]
    },
    {
      "cell_type": "code",
      "execution_count": 28,
      "metadata": {
        "colab": {
          "base_uri": "https://localhost:8080/",
          "height": 256
        },
        "id": "NYnmXetdfwdD",
        "outputId": "69fae59c-c88d-40ae-c01b-3a8033c7d7f0"
      },
      "outputs": [
        {
          "data": {
            "image/png": "[encoded data removed]",
            "text/plain": [
              "<Figure size 200x200 with 2 Axes>"
            ]
          },
          "metadata": {},
          "output_type": "display_data"
        }
      ],
      "source": [
        "plot_confusion_matrix(y_test, cnb.predict(X_test), labels=['Negative', 'Positive'])"
      ]
    },
    {
      "cell_type": "code",
      "execution_count": 29,
      "metadata": {
        "colab": {
          "base_uri": "https://localhost:8080/",
          "height": 256
        },
        "id": "pOxGVTadf0ZV",
        "outputId": "97ff78f5-3243-44ee-a393-1e1914b79c80"
      },
      "outputs": [
        {
          "data": {
            "image/png": "[encoded data removed]",
            "text/plain": [
              "<Figure size 200x200 with 2 Axes>"
            ]
          },
          "metadata": {},
          "output_type": "display_data"
        }
      ],
      "source": [
        "plot_confusion_matrix(y_test, cmlp.predict(X_test), labels=['Negative', 'Positive'])"
      ]
    },
    {
      "cell_type": "markdown",
      "metadata": {
        "id": "wwB3UCiENefd"
      },
      "source": [
        "## Relatório de classificação"
      ]
    },
    {
      "cell_type": "code",
      "execution_count": 30,
      "metadata": {
        "colab": {
          "base_uri": "https://localhost:8080/"
        },
        "id": "NsijXoQJNhW0",
        "outputId": "ee8f20ab-b66b-4a80-a315-efbde413d07a"
      },
      "outputs": [
        {
          "name": "stdout",
          "output_type": "stream",
          "text": [
            "              precision    recall  f1-score   support\n",
            "\n",
            "    Negative       0.78      0.86      0.82       472\n",
            "    Positive       0.83      0.73      0.77       428\n",
            "\n",
            "    accuracy                           0.80       900\n",
            "   macro avg       0.80      0.80      0.80       900\n",
            "weighted avg       0.80      0.80      0.80       900\n",
            "\n"
          ]
        }
      ],
      "source": [
        "print(classification_report(y_test, clr.predict(X_test)))"
      ]
    },
    {
      "cell_type": "code",
      "execution_count": 31,
      "metadata": {
        "colab": {
          "base_uri": "https://localhost:8080/"
        },
        "id": "od-AxMv7Tvp7",
        "outputId": "006d0d8c-1a03-49ac-c732-cdad1d6bc8b2"
      },
      "outputs": [
        {
          "name": "stdout",
          "output_type": "stream",
          "text": [
            "              precision    recall  f1-score   support\n",
            "\n",
            "    Negative       0.78      0.85      0.81       472\n",
            "    Positive       0.82      0.73      0.77       428\n",
            "\n",
            "    accuracy                           0.79       900\n",
            "   macro avg       0.80      0.79      0.79       900\n",
            "weighted avg       0.80      0.79      0.79       900\n",
            "\n"
          ]
        }
      ],
      "source": [
        "print(classification_report(y_test, cnb.predict(X_test)))"
      ]
    },
    {
      "cell_type": "code",
      "execution_count": 32,
      "metadata": {
        "colab": {
          "base_uri": "https://localhost:8080/"
        },
        "id": "CR5NhqkmVsGv",
        "outputId": "70003661-f093-4dd5-933f-5cba569a48d3"
      },
      "outputs": [
        {
          "name": "stdout",
          "output_type": "stream",
          "text": [
            "              precision    recall  f1-score   support\n",
            "\n",
            "    Negative       0.79      0.74      0.76       472\n",
            "    Positive       0.73      0.78      0.75       428\n",
            "\n",
            "    accuracy                           0.76       900\n",
            "   macro avg       0.76      0.76      0.76       900\n",
            "weighted avg       0.76      0.76      0.76       900\n",
            "\n"
          ]
        }
      ],
      "source": [
        "print(classification_report(y_test, cmlp.predict(X_test)))"
      ]
    }
  ],
  "metadata": {
    "colab": {
      "provenance": []
    },
    "kernelspec": {
      "display_name": "Python 3",
      "name": "python3"
    },
    "language_info": {
      "codemirror_mode": {
        "name": "ipython",
        "version": 3
      },
      "file_extension": ".py",
      "mimetype": "text/x-python",
      "name": "python",
      "nbconvert_exporter": "python",
      "pygments_lexer": "ipython3",
      "version": "3.12.4"
    }
  },
  "nbformat": 4,
  "nbformat_minor": 0
}
