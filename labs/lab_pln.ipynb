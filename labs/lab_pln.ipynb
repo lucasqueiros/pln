{
 "cells": [
  {
   "cell_type": "markdown",
   "metadata": {},
   "source": [
    "skipgram:\n",
    "1. window size: intervalo de palavras de ambos os lados da palavra alvo que serão consideradas palavras de contexto\n",
    "2. Para cada palavra de 1 a T, predizemos as palavras ao redor em um raio m e treinamos o modelo para maximizar a probabilidade de qqr palavra de contexto dada  a palavra central"
   ]
  },
  {
   "cell_type": "code",
   "execution_count": null,
   "metadata": {},
   "outputs": [],
   "source": []
  }
 ],
 "metadata": {
  "language_info": {
   "name": "python"
  }
 },
 "nbformat": 4,
 "nbformat_minor": 2
}
