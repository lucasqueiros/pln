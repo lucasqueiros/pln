{
 "cells": [
  {
   "cell_type": "code",
   "execution_count": 2,
   "metadata": {},
   "outputs": [],
   "source": [
    "import numpy as np\n",
    "import re\n",
    "from collections import defaultdict"
   ]
  },
  {
   "cell_type": "code",
   "execution_count": 15,
   "metadata": {},
   "outputs": [],
   "source": [
    "import numpy as np\n",
    "import re\n",
    "from collections import defaultdict\n",
    "\n",
    "class NaiveBayesText:\n",
    "    def __init__(self):\n",
    "        self.classes = None\n",
    "        self.prior_probs = {}\n",
    "        self.word_probs = defaultdict(lambda: defaultdict(lambda: 0))\n",
    "\n",
    "    def preprocess(self, text):\n",
    "        # Remove caracteres especiais e converte para minúsculas\n",
    "        text = re.sub(r'\\W', ' ', text)\n",
    "        text = text.lower()\n",
    "        text = text.split()\n",
    "        return text\n",
    "\n",
    "    def fit(self, X, y):\n",
    "        n_samples = len(X)\n",
    "        self.classes = np.unique(y)\n",
    "        word_counts = defaultdict(lambda: defaultdict(int))\n",
    "        class_counts = defaultdict(int)\n",
    "        total_words = defaultdict(int)\n",
    "        \n",
    "        for text, label in zip(X, y):\n",
    "            words = self.preprocess(text)\n",
    "            class_counts[label] += 1\n",
    "            for word in words:\n",
    "                word_counts[label][word] += 1\n",
    "                total_words[label] += 1\n",
    "\n",
    "        for label in self.classes:\n",
    "            self.prior_probs[label] = class_counts[label] / float(n_samples)\n",
    "            for word in word_counts[label]:\n",
    "                self.word_probs[label][word] = (word_counts[label][word] + 1) / (total_words[label] + len(word_counts[label]))\n",
    "\n",
    "    def _calc_likelihood(self, text, cls):\n",
    "        likelihood = np.log(self.prior_probs[cls])\n",
    "        words = self.preprocess(text)\n",
    "        for word in words:\n",
    "            if word in self.word_probs[cls]:\n",
    "                likelihood += np.log(self.word_probs[cls][word])\n",
    "            else:\n",
    "                likelihood += np.log(1 / (sum(self.word_probs[cls].values()) + len(self.word_probs[cls])))\n",
    "        return likelihood\n",
    "\n",
    "    def predict(self, X):\n",
    "        y_pred = []\n",
    "        for text in X:\n",
    "            posteriors = [self._calc_likelihood(text, cls) for cls in self.classes]\n",
    "            y_pred.append(self.classes[np.argmax(posteriors)])\n",
    "        return np.array(y_pred)"
   ]
  },
  {
   "cell_type": "code",
   "execution_count": 16,
   "metadata": {},
   "outputs": [
    {
     "name": "stdout",
     "output_type": "stream",
     "text": [
      "Previsões: [0 0]\n"
     ]
    }
   ],
   "source": [
    "# Exemplo de uso\n",
    "if __name__ == \"__main__\":\n",
    "    # Exemplo de dados\n",
    "    X_train = [\n",
    "        \"Este é um exemplo de texto positivo\",\n",
    "        \"Eu amo aprender novas coisas\",\n",
    "        \"Este texto é negativo e triste\",\n",
    "        \"Eu odeio quando isso acontece\"\n",
    "    ]\n",
    "    y_train = np.array([1, 1, 0, 0])  # 1 para positivo, 0 para negativo\n",
    "\n",
    "    X_test = [\n",
    "        \"Eu amo este exemplo\",\n",
    "        \"Odeio coisas tristes\"\n",
    "    ]\n",
    "\n",
    "    nb_text = NaiveBayesText()\n",
    "    nb_text.fit(X_train, y_train)  # Corrigido aqui\n",
    "    y_pred = nb_text.predict(X_test)\n",
    "\n",
    "    print(f\"Previsões: {y_pred}\")\n"
   ]
  },
  {
   "cell_type": "code",
   "execution_count": null,
   "metadata": {},
   "outputs": [],
   "source": []
  }
 ],
 "metadata": {
  "kernelspec": {
   "display_name": "nlp",
   "language": "python",
   "name": "python3"
  },
  "language_info": {
   "codemirror_mode": {
    "name": "ipython",
    "version": 3
   },
   "file_extension": ".py",
   "mimetype": "text/x-python",
   "name": "python",
   "nbconvert_exporter": "python",
   "pygments_lexer": "ipython3",
   "version": "3.12.4"
  }
 },
 "nbformat": 4,
 "nbformat_minor": 2
}
