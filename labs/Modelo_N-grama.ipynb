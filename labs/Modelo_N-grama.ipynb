{
 "cells": [
  {
   "cell_type": "markdown",
   "metadata": {},
   "source": [
    "## Modelo Unigrama, Bigrama, Trigrama"
   ]
  },
  {
   "cell_type": "markdown",
   "metadata": {},
   "source": [
    "### Configuração"
   ]
  },
  {
   "cell_type": "code",
   "execution_count": 1,
   "metadata": {},
   "outputs": [],
   "source": [
    "import random\n",
    "import re\n",
    "from collections import defaultdict, Counter"
   ]
  },
  {
   "cell_type": "markdown",
   "metadata": {},
   "source": [
    "### Metodos adicionais"
   ]
  },
  {
   "cell_type": "code",
   "execution_count": 2,
   "metadata": {},
   "outputs": [],
   "source": [
    "def read_text_from_file(file_path):\n",
    "    with open(file_path, 'r', encoding='utf-8') as file:\n",
    "        return file.read()"
   ]
  },
  {
   "cell_type": "markdown",
   "metadata": {},
   "source": [
    "### Definição do modelo"
   ]
  },
  {
   "cell_type": "code",
   "execution_count": 7,
   "metadata": {},
   "outputs": [],
   "source": [
    "class NGramModel:\n",
    "    def __init__(self, n):\n",
    "        self.n = n  #valor de n no modelo n-grama\n",
    "        self.ngrams = defaultdict(Counter)  #Inicializa um defaultdict de Counters para armazenar n-gramas e suas frequencias\n",
    "\n",
    "    def train(self, text):\n",
    "        tokens = self._tokenize(text)   #tokeniza a entrada de texto\n",
    "        ngrams = self._create_ngrams(tokens)    #cria n-gramas a partir dos tokens\n",
    "\n",
    "        for ngram in ngrams:    #itera sobre as n-gramas criadas\n",
    "            prefix, token = tuple(ngram[:-1]), ngram[-1]    #Separa a n-grama em prefixo e token\n",
    "            self.ngrams[prefix][token] += 1     #incrementa a frequencia do token que sucede o prefixo\n",
    "\n",
    "    def generate(self, max_words=100):\n",
    "        output = []\n",
    "        if self.n == 1:     #tratando caso de unigramas\n",
    "            for _ in range(max_words):\n",
    "                next_word = self._choose_next(None)     #unigramas usam none como prefixo\n",
    "                if next_word is None:\n",
    "                    break\n",
    "                output.append(next_word)\n",
    "        else:\n",
    "            current = random.choice(list(self.ngrams.keys()))   #Selecione oum prefixo inicial aleatoriamente\n",
    "            output = list(current)    #inicializa a saida com o prefixo inicial\n",
    "    \n",
    "            for _ in range(max_words - self.n + 1):     #gera palavras ate que max_words seja alcançado\n",
    "                next_word = self._choose_next(current)  #escolhe a proxima palavra baseado no prefixo atual\n",
    "                if next_word is None:      #Se nenhuma palavra é encontrada, quebre o laço\n",
    "                    break\n",
    "                output.append(next_word)    #adicione a proxima palavra a saida\n",
    "                current = tuple(output[-self.n+1:])     #atualize o prefixo atual\n",
    "        return ' '.join(output)     #retorna o texto gerado como string\n",
    "    \n",
    "    def _choose_next(self, prefix):\n",
    "        if self.n == 1:\n",
    "            options = self.ngrams[()]  # Para unigrama, use uma tupla vazia como chave\n",
    "        else:\n",
    "            options = self.ngrams.get(prefix, None)  # Pegue as possíveis próxijmas palavras para o dado prefixo\n",
    "\n",
    "        if options:  # Se options foi encontrado\n",
    "            total = sum(options.values())\n",
    "            probs = [count / total for count in options.values()]  # Calcula as probabilidades\n",
    "            return random.choices(list(options.keys()), weights=probs)[0]  # Escolha uma palavra baseada nas probabilidades\n",
    "        else:\n",
    "            return None  # Retorna None se options não for encontrado\n",
    "    \n",
    "    def _create_ngrams(self, tokens):\n",
    "        if len(tokens) < self.n:\n",
    "            return []\n",
    "        return [tuple(tokens[i:i + self.n]) for i in range(len(tokens) - self.n + 1)]   #cria n-gramas dos tokens\n",
    "    \n",
    "    def _tokenize(self, text):\n",
    "        text = text.lower()     #converte o texto para caixa-baixa\n",
    "        text = re.sub(r'\\s+', ' ', text)    #substitui multiplos espaços com um unico espaço\n",
    "        text = re.sub(r'[^\\w\\s]', '', text)     #remove pontuação\n",
    "        return text.split()    #separa o texto em tokens de caracteres passando o texto"
   ]
  },
  {
   "cell_type": "markdown",
   "metadata": {},
   "source": [
    "### Exemplo de Uso"
   ]
  },
  {
   "cell_type": "code",
   "execution_count": 8,
   "metadata": {},
   "outputs": [
    {
     "name": "stdout",
     "output_type": "stream",
     "text": [
      "Unigram Generated Text: da as nos da sua o sua ecco and de já do a refeição estão espirito na the em brasilica\n",
      "Bigram Generated Text: payments must cease using this ebook of obtaining a este livrinho que tinha sido a chamam vulgarmente _typoia_ rejeitouse o\n",
      "Trigram Generated Text: o neto por narseja elle prophetisa nesse parallelo a destruição de sua felicidade e são agora de amarga saudade quando\n"
     ]
    }
   ],
   "source": [
    "file_path = 'iracema.txt'\n",
    "text = read_text_from_file(file_path)\n",
    "\n",
    "unigram_model = NGramModel(1)\n",
    "bigram_model = NGramModel(2)\n",
    "trigram_model = NGramModel(3)\n",
    "\n",
    "unigram_model.train(text)\n",
    "bigram_model.train(text)\n",
    "trigram_model.train(text)\n",
    "\n",
    "print(\"Unigram Generated Text:\", unigram_model.generate(max_words=20))\n",
    "print(\"Bigram Generated Text:\", bigram_model.generate(max_words=20))\n",
    "print(\"Trigram Generated Text:\", trigram_model.generate(max_words=20))"
   ]
  },
  {
   "cell_type": "markdown",
   "metadata": {},
   "source": [
    "## Modelo com tokenização a nivel de caractere"
   ]
  },
  {
   "cell_type": "code",
   "execution_count": 9,
   "metadata": {},
   "outputs": [],
   "source": [
    "import random\n",
    "import re\n",
    "from collections import defaultdict, Counter\n",
    "\n",
    "class NGramModel1:\n",
    "    def __init__(self, n):\n",
    "        self.n = n  # Valor de n no modelo N-Grama (e.g., 1 para unigrama, 2 para bigrama)\n",
    "        self.ngrams = defaultdict(Counter)  # Initializa um defaultdict de Counters para armazenar n-gramas e suas frequencias\n",
    "\n",
    "    def train(self, text):\n",
    "        tokens = self._tokenize(text)  # Tokeniza a entrada de texto\n",
    "        ngrams = self._create_ngrams(tokens)  # Cria n-gramas a partir dos tokens\n",
    "\n",
    "        for ngram in ngrams:  # Itera sobre as n-gramas criadas\n",
    "            prefix, token = tuple(ngram[:-1]), ngram[-1]  # Separa a n-grama em prefixo e token\n",
    "            self.ngrams[prefix][token] += 1  # Incrementa a frequencia do token que sucede o prefixo\n",
    "\n",
    "    def generate(self, max_words=100):\n",
    "        output = []\n",
    "        if self.n == 1:  # Tratando o caso de unigramas\n",
    "            for _ in range(max_words):\n",
    "                next_word = self._choose_next(None)  # Unigramas usam None como prefixo\n",
    "                if next_word is None:\n",
    "                    break\n",
    "                output.append(next_word)\n",
    "        else:\n",
    "            current = random.choice(list(self.ngrams.keys()))  # Selecione um prefixo inicital aleatoriamente\n",
    "            output = list(current)  # Inicializa a saída com o prefixo inicial\n",
    "\n",
    "            for _ in range(max_words - self.n + 1):  # Gera palavras até que max_words seja alcançado\n",
    "                next_word = self._choose_next(current)  # Escolhe a próxima palavra baseado no prefixo atual\n",
    "                if next_word is None:  # Se nenhuma palvavra é encontrada, quebre o laço\n",
    "                    break\n",
    "                output.append(next_word)  # Adicione a próxima palavra à saída\n",
    "                current = tuple(output[-self.n+1:])  # Atualize o prefixo atual\n",
    "\n",
    "        return ' '.join(output)  # Retorna o texto gerado como string\n",
    "\n",
    "    def _choose_next(self, prefix):\n",
    "        if self.n == 1:\n",
    "            options = self.ngrams[()]  # Para unigrama, use uma tupla vazia como chave\n",
    "        else:\n",
    "            options = self.ngrams.get(prefix, None)  # Pegue as possíveis próxijmas palavras para o dado prefixo\n",
    "\n",
    "        if options:  # Se options foi encontrado\n",
    "            total = sum(options.values())\n",
    "            probs = [count / total for count in options.values()]  # Calcula as probabilidades\n",
    "            return random.choices(list(options.keys()), weights=probs)[0]  # Escolha uma palavra baseada nas probabilidades\n",
    "        else:\n",
    "            return None  # Retorna None se options não for encontrado\n",
    "\n",
    "    def _create_ngrams(self, tokens):\n",
    "        if len(tokens) < self.n:\n",
    "          return []\n",
    "        return [tuple(tokens[i:i + self.n]) for i in range(len(tokens) - self.n + 1)]  # Create n-grams from tokens\n",
    "\n",
    "    def _tokenize(self, text):\n",
    "        text = text.lower()  # Converte texto para caixa-baixa\n",
    "        text = re.sub(r'\\s+', ' ', text)  # Substitue múltiplos espaços com um único espaço\n",
    "        text = re.sub(r'[^\\w\\s]', '', text)  # Remove pontuação\n",
    "        return lista  # Separa o texto em tokens de caracteres passando a lista criada"
   ]
  },
  {
   "cell_type": "code",
   "execution_count": 10,
   "metadata": {},
   "outputs": [],
   "source": [
    "lista = list(text)"
   ]
  },
  {
   "cell_type": "markdown",
   "metadata": {},
   "source": [
    "### Exemplo de Uso"
   ]
  },
  {
   "cell_type": "code",
   "execution_count": 11,
   "metadata": {},
   "outputs": [
    {
     "name": "stdout",
     "output_type": "stream",
     "text": [
      "Unigram Generated Text: p   m l   t e e u r   a s r h e p n i   i a p   i i   u \n",
      " e\n",
      "Bigram Generated Text: Õ e r a c o s a r a s e r e l a r a r a m a r k   e   a r a\n",
      "Trigram Generated Text: 3 9 . - - V i ç a r e f f e n t o , \n",
      " q u e r v o l o r k ,\n",
      "Tengram Generated Text: a   e   e s p e r a n ç a s . \n",
      " \n",
      " E i l - o   q u e   v o l\n"
     ]
    }
   ],
   "source": [
    "file_path = 'iracema.txt'\n",
    "text = read_text_from_file(file_path)\n",
    "\n",
    "unigram_model = NGramModel1(1)\n",
    "bigram_model = NGramModel1(2)\n",
    "trigram_model = NGramModel1(3)\n",
    "tengram_model = NGramModel1(10)\n",
    "\n",
    "unigram_model.train(text)\n",
    "bigram_model.train(text)\n",
    "trigram_model.train(text)\n",
    "tengram_model.train(text)\n",
    "\n",
    "print(\"Unigram Generated Text:\", unigram_model.generate(max_words=30))\n",
    "print(\"Bigram Generated Text:\", bigram_model.generate(max_words=30))\n",
    "print(\"Trigram Generated Text:\", trigram_model.generate(max_words=30))\n",
    "print(\"Tengram Generated Text:\", tengram_model.generate(max_words=30))"
   ]
  }
 ],
 "metadata": {
  "kernelspec": {
   "display_name": "nlp",
   "language": "python",
   "name": "python3"
  },
  "language_info": {
   "codemirror_mode": {
    "name": "ipython",
    "version": 3
   },
   "file_extension": ".py",
   "mimetype": "text/x-python",
   "name": "python",
   "nbconvert_exporter": "python",
   "pygments_lexer": "ipython3",
   "version": "3.12.4"
  }
 },
 "nbformat": 4,
 "nbformat_minor": 2
}
